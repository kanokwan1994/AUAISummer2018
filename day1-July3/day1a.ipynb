{
  "nbformat": 4,
  "nbformat_minor": 0,
  "metadata": {
    "colab": {
      "name": "day1a.ipynb",
      "version": "0.3.2",
      "provenance": [],
      "include_colab_link": true
    },
    "kernelspec": {
      "name": "python2",
      "display_name": "Python 2"
    }
  },
  "cells": [
    {
      "cell_type": "markdown",
      "metadata": {
        "id": "view-in-github",
        "colab_type": "text"
      },
      "source": [
        "[View in Colaboratory](https://colab.research.google.com/github/kanokwan1994/AUAISummer2018/blob/master/day1-July3/day1a.ipynb)"
      ]
    },
    {
      "metadata": {
        "id": "VJojC0BhU8Ks",
        "colab_type": "code",
        "colab": {}
      },
      "cell_type": "code",
      "source": [
        ""
      ],
      "execution_count": 0,
      "outputs": []
    },
    {
      "metadata": {
        "id": "COF4xdkwhJnQ",
        "colab_type": "text"
      },
      "cell_type": "markdown",
      "source": [
        "# AU AI Summer Program Day1A Assignment\n",
        "\n",
        "#Online couse tools\n",
        "* https://www.facebook.com/groups/AUAISummerProgram/\n",
        "\n",
        "#Money exchange wufeng\n",
        "* https://www.bot.com.tw/English/BusinessUnits/Domestics/Central/Pages/tb31037.aspx\n",
        "\n",
        "#Hospital\n",
        "* http://www.auh.org.tw/\n",
        "\n",
        "#Map of Asia University\n",
        "![GitHub Logo](http://www.asia.edu.tw/en/upload/pages/CampusMap_AsiaU_Eng.jpg)\n",
        "\n",
        "#Opening of AI summer school\n",
        "![GitHub Logo](https://scontent-tpe1-1.xx.fbcdn.net/v/t1.0-9/36545542_10212193144492722_5336331736672370688_n.jpg?_nc_cat=0&oh=cbb93f55405cd5ca8a5285607b150d5e&oe=5B9DCCE9)\n",
        "\n"
      ]
    }
  ]
}