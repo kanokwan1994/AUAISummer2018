{
  "nbformat": 4,
  "nbformat_minor": 0,
  "metadata": {
    "colab": {
      "name": "day1b.ipynb",
      "version": "0.3.2",
      "provenance": [],
      "include_colab_link": true
    },
    "kernelspec": {
      "name": "python3",
      "display_name": "Python 3"
    }
  },
  "cells": [
    {
      "cell_type": "markdown",
      "metadata": {
        "id": "view-in-github",
        "colab_type": "text"
      },
      "source": [
        "[View in Colaboratory](https://colab.research.google.com/github/kanokwan1994/AUAISummer2018/blob/master/day1-July3/day1b.ipynb)"
      ]
    },
    {
      "metadata": {
        "id": "Ya1Z4yQoy0u0",
        "colab_type": "text"
      },
      "cell_type": "markdown",
      "source": [
        "#AUAI Assignment 1B\n",
        "#Problem : FIFA World Cup 2018\n",
        "![GitHub Logo](https://statics.sportskeeda.com/wp-content/uploads/2014/04/fifa-logo-design-history-and-evolution-wkuq7omm-2161994.jpg)\n",
        "#Lets get started by loading all the neccesary datasets and Libraries.\n",
        "\n",
        "## FIFA Ranking Data Set\n",
        "\n",
        "First Header | rank | country_full | country_abrv | total_points\t| previous_points | rank_change | \n",
        "------------ | -------------\n",
        "0 | 1 | Germany | GER | 0.00 | 57 | 0\n",
        "1 | 2 | Italy | ITA | 0.00 | 57 | 0\n",
        "2 | 3 | Switzerland | \tSUI | 0.00 | 50 | 9\n",
        "3 | 4 | Sweden | SWE |0.00 | 55 | 0\n",
        "4 | 5 | Argentina |ARG | 0.00 | 51| 5\n",
        "5 | 6 | Republic of Ireland | IRL | 0.00 | 54 | 0\n",
        "6 | 7 | Russia | \tRUS | 0.00| 52 | 1\n",
        "7 | 8 | Brazil | BRA | 0.00 | 55 | -5\n",
        "8 | 9 | Norway | NOR | 0.00 | 49 | 5\n",
        "9 | 10 | Denmark | \tDEN | 0.00 | 51 | -1\n",
        "10 | 11 | England | ENG | 0.00 | 55 | -6 \n",
        " ## Top six contenders to win the 2018 FIFA World Cup\n",
        " \n",
        " ![GitHub Logo](https://content.foxsports.com.au/fs/match-centre/team-logo/football/60183.svg)\n",
        "* URUGUAY\n",
        " \n",
        " ![GitHub Logo](https://content.foxsports.com.au/fs/match-centre/team-logo/football/60052.svg)\n",
        " * FRANCE\n",
        " \n",
        "  ![GitHub Logo](https://www.foxsports.com.au/pxazh/NDcyMDE4NnxjeG8uY3xodHRwczovL2NvbnRlbnQuZm94c3BvcnRzLmNvbS5hdS9mcy9tYXRjaC1jZW50cmUvdGVhbS1sb2dvL2Zvb3RiYWxsLzYwMTA1LnN2Z3w0NzIwMTg2Y3hvLmN8ZTA1NTJlZQ==)\n",
        "  * BRAZIL\n",
        "\n",
        " ![GitHub Logo](https://www.foxsports.com.au/pxazh/NDcyMDE4NnxjeG8uY3xodHRwczovL2NvbnRlbnQuZm94c3BvcnRzLmNvbS5hdS9mcy9tYXRjaC1jZW50cmUvdGVhbS1sb2dvL2Zvb3RiYWxsLzYwMTAzLnN2Z3w0NzIwMTg2Y3hvLmN8ZTA1NTJlZQ==)\n",
        " * BELGIUM\n",
        " \n",
        "  ![GitHub Logo](https://www.foxsports.com.au/pxazh/NDcyMDE4NnxjeG8uY3xodHRwczovL2NvbnRlbnQuZm94c3BvcnRzLmNvbS5hdS9mcy9tYXRjaC1jZW50cmUvdGVhbS1sb2dvL2Zvb3RiYWxsLzYwMDU4LnN2Z3w0NzIwMTg2Y3hvLmN8ZTA1NTJlZQ==)\n",
        "* SWEDEN\n",
        "\n",
        " ![GitHub Logo](https://www.foxsports.com.au/pxazh/NDcyMDE4NnxjeG8uY3xodHRwczovL2NvbnRlbnQuZm94c3BvcnRzLmNvbS5hdS9mcy9tYXRjaC1jZW50cmUvdGVhbS1sb2dvL2Zvb3RiYWxsLzYwMTIyLnN2Z3w0NzIwMTg2Y3hvLmN8ZTA1NTJlZQ==)\n",
        "* ENGLAND"
      ]
    },
    {
      "metadata": {
        "id": "JJaIsCEH23oS",
        "colab_type": "text"
      },
      "cell_type": "markdown",
      "source": [
        ""
      ]
    },
    {
      "metadata": {
        "id": "NtVOV9QLy0LX",
        "colab_type": "code",
        "colab": {}
      },
      "cell_type": "code",
      "source": [
        ""
      ],
      "execution_count": 0,
      "outputs": []
    },
    {
      "metadata": {
        "id": "qsyyla9s21_S",
        "colab_type": "text"
      },
      "cell_type": "markdown",
      "source": [
        ""
      ]
    }
  ]
}
