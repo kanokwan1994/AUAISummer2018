{
  "nbformat": 4,
  "nbformat_minor": 0,
  "metadata": {
    "colab": {
      "name": "day6-July10.ipynb",
      "version": "0.3.2",
      "provenance": [],
      "include_colab_link": true
    },
    "kernelspec": {
      "name": "python3",
      "display_name": "Python 3"
    }
  },
  "cells": [
    {
      "cell_type": "markdown",
      "metadata": {
        "id": "view-in-github",
        "colab_type": "text"
      },
      "source": [
        "[View in Colaboratory](https://colab.research.google.com/github/kanokwan1994/AUAISummer2018/blob/master/day6_July10.ipynb)"
      ]
    },
    {
      "metadata": {
        "id": "JmLZ6UH97TQ1",
        "colab_type": "code",
        "colab": {
          "base_uri": "https://localhost:8080/",
          "height": 105
        },
        "outputId": "8cf79547-b2b5-4fd0-8a7f-fe3aec98a992"
      },
      "cell_type": "code",
      "source": [
        "!apt-get install -y -qq software-properties-common python-software-properties module-init-tools\n",
        "!add-apt-repository -y ppa:alessandro-strada/ppa 2>&1 > /dev/null\n",
        "!apt-get update -qq 2>&1 > /dev/null\n",
        "!apt-get -y install -qq google-drive-ocamlfuse fuse\n",
        "from google.colab import auth\n",
        "auth.authenticate_user()\n",
        "from oauth2client.client import GoogleCredentials\n",
        "creds = GoogleCredentials.get_application_default()\n",
        "import getpass\n",
        "!google-drive-ocamlfuse -headless -id={creds.client_id} -secret={creds.client_secret} < /dev/null 2>&1 | grep URL\n",
        "vcode = getpass.getpass()\n",
        "!echo {vcode} | google-drive-ocamlfuse -headless -id={creds.client_id} -secret={creds.client_secret}"
      ],
      "execution_count": 2,
      "outputs": [
        {
          "output_type": "stream",
          "text": [
            "Please, open the following URL in a web browser: https://accounts.google.com/o/oauth2/auth?client_id=32555940559.apps.googleusercontent.com&redirect_uri=urn%3Aietf%3Awg%3Aoauth%3A2.0%3Aoob&scope=https%3A%2F%2Fwww.googleapis.com%2Fauth%2Fdrive&response_type=code&access_type=offline&approval_prompt=force\r\n",
            "··········\n",
            "Please, open the following URL in a web browser: https://accounts.google.com/o/oauth2/auth?client_id=32555940559.apps.googleusercontent.com&redirect_uri=urn%3Aietf%3Awg%3Aoauth%3A2.0%3Aoob&scope=https%3A%2F%2Fwww.googleapis.com%2Fauth%2Fdrive&response_type=code&access_type=offline&approval_prompt=force\n",
            "Please enter the verification code: Access token retrieved correctly.\n"
          ],
          "name": "stdout"
        }
      ]
    },
    {
      "metadata": {
        "id": "IJUPYpTv_3yA",
        "colab_type": "text"
      },
      "cell_type": "markdown",
      "source": [
        "##Imports"
      ]
    },
    {
      "metadata": {
        "id": "1Jw5qwy1AE7f",
        "colab_type": "code",
        "colab": {}
      },
      "cell_type": "code",
      "source": [
        "%matplotlib inline\n",
        "import matplotlib.pyplot as plt\n",
        "import tensorflow as tf\n",
        "import numpy as np\n",
        "from sklearn.metrics import confusion_matrix\n",
        "import time\n",
        "from datetime import timedelta\n",
        "import math"
      ],
      "execution_count": 0,
      "outputs": []
    },
    {
      "metadata": {
        "id": "2-WC_a53AUB3",
        "colab_type": "text"
      },
      "cell_type": "markdown",
      "source": [
        "This was developed using Python 3.6.1 (Anaconda) and TensorFlow version:"
      ]
    },
    {
      "metadata": {
        "id": "-qo87CXFAVHG",
        "colab_type": "code",
        "colab": {
          "base_uri": "https://localhost:8080/",
          "height": 34
        },
        "outputId": "f70b52b7-f828-4e46-f0e0-224640c82daf"
      },
      "cell_type": "code",
      "source": [
        "tf.__version__"
      ],
      "execution_count": 4,
      "outputs": [
        {
          "output_type": "execute_result",
          "data": {
            "text/plain": [
              "'1.9.0-rc2'"
            ]
          },
          "metadata": {
            "tags": []
          },
          "execution_count": 4
        }
      ]
    },
    {
      "metadata": {
        "id": "26Cn7TTRAduP",
        "colab_type": "text"
      },
      "cell_type": "markdown",
      "source": [
        "##Configuration of Neural Network\n",
        "The configuration of the Convolutional Neural Network is defined here for convenience, so you can easily find and change these numbers and re-run the Notebook."
      ]
    },
    {
      "metadata": {
        "id": "BMvJp6dRAiau",
        "colab_type": "code",
        "colab": {}
      },
      "cell_type": "code",
      "source": [
        "# Convolutional Layer 1.\n",
        "filter_size1 = 5          # Convolution filters are 5 x 5 pixels.\n",
        "num_filters1 = 16         # There are 16 of these filters.\n",
        "\n",
        "# Convolutional Layer 2.\n",
        "filter_size2 = 5          # Convolution filters are 5 x 5 pixels.\n",
        "num_filters2 = 36         # There are 36 of these filters.\n",
        "\n",
        "# Fully-connected layer.\n",
        "fc_size = 128             # Number of neurons in fully-connected layer."
      ],
      "execution_count": 0,
      "outputs": []
    },
    {
      "metadata": {
        "id": "NJOnLysOAuyu",
        "colab_type": "text"
      },
      "cell_type": "markdown",
      "source": [
        "##Load Data"
      ]
    },
    {
      "metadata": {
        "id": "ws0kOTdmB8pc",
        "colab_type": "text"
      },
      "cell_type": "markdown",
      "source": [
        "The MNIST data-set is about 12 MB and will be downloaded automatically if it is not located in the given path."
      ]
    },
    {
      "metadata": {
        "id": "SYQWh2uyCA1t",
        "colab_type": "code",
        "colab": {
          "base_uri": "https://localhost:8080/",
          "height": 530
        },
        "outputId": "ae2cca1e-96a8-42d4-d3f1-63823619cdf0"
      },
      "cell_type": "code",
      "source": [
        "from tensorflow.examples.tutorials.mnist import input_data\n",
        "data = input_data.read_data_sets('data/MNIST/', one_hot=True)\n"
      ],
      "execution_count": 8,
      "outputs": [
        {
          "output_type": "stream",
          "text": [
            "WARNING:tensorflow:From <ipython-input-8-37adf088ce13>:2: read_data_sets (from tensorflow.contrib.learn.python.learn.datasets.mnist) is deprecated and will be removed in a future version.\n",
            "Instructions for updating:\n",
            "Please use alternatives such as official/mnist/dataset.py from tensorflow/models.\n",
            "WARNING:tensorflow:From /usr/local/lib/python3.6/dist-packages/tensorflow/contrib/learn/python/learn/datasets/mnist.py:260: maybe_download (from tensorflow.contrib.learn.python.learn.datasets.base) is deprecated and will be removed in a future version.\n",
            "Instructions for updating:\n",
            "Please write your own downloading logic.\n",
            "WARNING:tensorflow:From /usr/local/lib/python3.6/dist-packages/tensorflow/contrib/learn/python/learn/datasets/base.py:252: _internal_retry.<locals>.wrap.<locals>.wrapped_fn (from tensorflow.contrib.learn.python.learn.datasets.base) is deprecated and will be removed in a future version.\n",
            "Instructions for updating:\n",
            "Please use urllib or similar directly.\n",
            "Successfully downloaded train-images-idx3-ubyte.gz 9912422 bytes.\n",
            "WARNING:tensorflow:From /usr/local/lib/python3.6/dist-packages/tensorflow/contrib/learn/python/learn/datasets/mnist.py:262: extract_images (from tensorflow.contrib.learn.python.learn.datasets.mnist) is deprecated and will be removed in a future version.\n",
            "Instructions for updating:\n",
            "Please use tf.data to implement this functionality.\n",
            "Extracting data/MNIST/train-images-idx3-ubyte.gz\n",
            "Successfully downloaded train-labels-idx1-ubyte.gz 28881 bytes.\n",
            "WARNING:tensorflow:From /usr/local/lib/python3.6/dist-packages/tensorflow/contrib/learn/python/learn/datasets/mnist.py:267: extract_labels (from tensorflow.contrib.learn.python.learn.datasets.mnist) is deprecated and will be removed in a future version.\n",
            "Instructions for updating:\n",
            "Please use tf.data to implement this functionality.\n",
            "Extracting data/MNIST/train-labels-idx1-ubyte.gz\n",
            "WARNING:tensorflow:From /usr/local/lib/python3.6/dist-packages/tensorflow/contrib/learn/python/learn/datasets/mnist.py:110: dense_to_one_hot (from tensorflow.contrib.learn.python.learn.datasets.mnist) is deprecated and will be removed in a future version.\n",
            "Instructions for updating:\n",
            "Please use tf.one_hot on tensors.\n",
            "Successfully downloaded t10k-images-idx3-ubyte.gz 1648877 bytes.\n",
            "Extracting data/MNIST/t10k-images-idx3-ubyte.gz\n",
            "Successfully downloaded t10k-labels-idx1-ubyte.gz 4542 bytes.\n",
            "Extracting data/MNIST/t10k-labels-idx1-ubyte.gz\n",
            "WARNING:tensorflow:From /usr/local/lib/python3.6/dist-packages/tensorflow/contrib/learn/python/learn/datasets/mnist.py:290: DataSet.__init__ (from tensorflow.contrib.learn.python.learn.datasets.mnist) is deprecated and will be removed in a future version.\n",
            "Instructions for updating:\n",
            "Please use alternatives such as official/mnist/dataset.py from tensorflow/models.\n"
          ],
          "name": "stdout"
        }
      ]
    },
    {
      "metadata": {
        "id": "uRr3x_yvC0Iz",
        "colab_type": "code",
        "colab": {
          "base_uri": "https://localhost:8080/",
          "height": 51
        },
        "outputId": "d8c458a5-6c98-47b5-ed6b-d7a1552afca4"
      },
      "cell_type": "code",
      "source": [
        "ls data/MNIST\n"
      ],
      "execution_count": 9,
      "outputs": [
        {
          "output_type": "stream",
          "text": [
            "t10k-images-idx3-ubyte.gz  train-images-idx3-ubyte.gz\r\n",
            "t10k-labels-idx1-ubyte.gz  train-labels-idx1-ubyte.gz\r\n"
          ],
          "name": "stdout"
        }
      ]
    },
    {
      "metadata": {
        "id": "PKSBeDPTC3_0",
        "colab_type": "text"
      },
      "cell_type": "markdown",
      "source": [
        "The MNIST data-set has now been loaded and consists of 70,000 images and associated labels (i.e. classifications of the images). The data-set is split into 3 mutually exclusive sub-sets. We will only use the training and test-sets in this tutorial."
      ]
    },
    {
      "metadata": {
        "id": "KbiP2FxfC7Mp",
        "colab_type": "code",
        "colab": {
          "base_uri": "https://localhost:8080/",
          "height": 85
        },
        "outputId": "29a1772f-8627-48f6-cbba-38f47f3301bd"
      },
      "cell_type": "code",
      "source": [
        "print(\"Size of:\")\n",
        "print(\"- Training-set:\\t\\t{}\".format(len(data.train.labels)))\n",
        "print(\"- Test-set:\\t\\t{}\".format(len(data.test.labels)))\n",
        "print(\"- Validation-set:\\t{}\".format(len(data.validation.labels)))"
      ],
      "execution_count": 10,
      "outputs": [
        {
          "output_type": "stream",
          "text": [
            "Size of:\n",
            "- Training-set:\t\t55000\n",
            "- Test-set:\t\t10000\n",
            "- Validation-set:\t5000\n"
          ],
          "name": "stdout"
        }
      ]
    },
    {
      "metadata": {
        "id": "OS0SMfKSC-ds",
        "colab_type": "text"
      },
      "cell_type": "markdown",
      "source": [
        "The class-labels are One-Hot encoded, which means that each label is a vector with 10 elements, all of which are zero except for one element. The index of this one element is the class-number, that is, the digit shown in the associated image. We also need the class-numbers as integers for the test-set, so we calculate it now."
      ]
    },
    {
      "metadata": {
        "id": "oU-5X0lTC_ej",
        "colab_type": "code",
        "colab": {}
      },
      "cell_type": "code",
      "source": [
        "data.test.cls = np.argmax(data.test.labels, axis=1)"
      ],
      "execution_count": 0,
      "outputs": []
    },
    {
      "metadata": {
        "id": "26GtUjd_DF86",
        "colab_type": "text"
      },
      "cell_type": "markdown",
      "source": [
        "##Data Dimensions\n",
        "The data dimensions are used in several places in the source-code below. They are defined once so we can use these variables instead of numbers throughout the source-code below."
      ]
    },
    {
      "metadata": {
        "id": "1lYWSkiDDQjL",
        "colab_type": "code",
        "colab": {}
      },
      "cell_type": "code",
      "source": [
        "# We know that MNIST images are 28 pixels in each dimension.\n",
        "img_size = 28\n",
        "\n",
        "# Images are stored in one-dimensional arrays of this length.\n",
        "img_size_flat = img_size * img_size\n",
        "\n",
        "# Tuple with height and width of images used to reshape arrays.\n",
        "img_shape = (img_size, img_size)\n",
        "\n",
        "# Number of colour channels for the images: 1 channel for gray-scale.\n",
        "num_channels = 1\n",
        "\n",
        "# Number of classes, one class for each of 10 digits.\n",
        "num_classes = 10"
      ],
      "execution_count": 0,
      "outputs": []
    },
    {
      "metadata": {
        "id": "yiBP6nAiGPU1",
        "colab_type": "text"
      },
      "cell_type": "markdown",
      "source": [
        "##Helper-function for plotting images\n",
        "Function used to plot 9 images in a 3x3 grid, and writing the true and predicted classes below each image."
      ]
    },
    {
      "metadata": {
        "id": "vpPvDPJ2GThM",
        "colab_type": "code",
        "colab": {}
      },
      "cell_type": "code",
      "source": [
        "def plot_images(images, cls_true, cls_pred=None):\n",
        "    assert len(images) == len(cls_true) == 9\n",
        "    \n",
        "    # Create figure with 3x3 sub-plots.\n",
        "    fig, axes = plt.subplots(3, 3)\n",
        "    fig.subplots_adjust(hspace=0.3, wspace=0.3)\n",
        "\n",
        "    for i, ax in enumerate(axes.flat):\n",
        "        # Plot image.\n",
        "        ax.imshow(images[i].reshape(img_shape), cmap='binary')\n",
        "\n",
        "        # Show true and predicted classes.\n",
        "        if cls_pred is None:\n",
        "            xlabel = \"True: {0}\".format(cls_true[i])\n",
        "        else:\n",
        "            xlabel = \"True: {0}, Pred: {1}\".format(cls_true[i], cls_pred[i])\n",
        "\n",
        "        # Show the classes as the label on the x-axis.\n",
        "        ax.set_xlabel(xlabel)\n",
        "        \n",
        "        # Remove ticks from the plot.\n",
        "        ax.set_xticks([])\n",
        "        ax.set_yticks([])\n",
        "    \n",
        "    # Ensure the plot is shown correctly with multiple plots\n",
        "    # in a single Notebook cell.\n",
        "    plt.show()"
      ],
      "execution_count": 0,
      "outputs": []
    },
    {
      "metadata": {
        "id": "HuWTEzkwGZnL",
        "colab_type": "text"
      },
      "cell_type": "markdown",
      "source": [
        "##Plot a few images to see if data is correct"
      ]
    },
    {
      "metadata": {
        "id": "rfoO-_HQGdy0",
        "colab_type": "code",
        "colab": {
          "base_uri": "https://localhost:8080/",
          "height": 262
        },
        "outputId": "6aea394f-60cb-4d60-d377-648e5b79363f"
      },
      "cell_type": "code",
      "source": [
        "# Get the first images from the test-set.\n",
        "images = data.test.images[0:9]\n",
        "\n",
        "# Get the true classes for those images.\n",
        "cls_true = data.test.cls[0:9]\n",
        "\n",
        "# Plot the images and labels using our helper-function above.\n",
        "plot_images(images=images, cls_true=cls_true)"
      ],
      "execution_count": 16,
      "outputs": [
        {
          "output_type": "display_data",
          "data": {
            "image/png": "[encoded data removed]",
            "text/plain": [
              "<matplotlib.figure.Figure at 0x7f9969316668>"
            ]
          },
          "metadata": {
            "tags": []
          }
        }
      ]
    },
    {
      "metadata": {
        "id": "CtbQjehWGnr1",
        "colab_type": "text"
      },
      "cell_type": "markdown",
      "source": [
        "##TensorFlow Graph\n",
        "The entire purpose of TensorFlow is to have a so-called computational graph that can be executed much more efficiently than if the same calculations were to be performed directly in Python. TensorFlow can be more efficient than NumPy because TensorFlow knows the entire computation graph that must be executed, while NumPy only knows the computation of a single mathematical operation at a time.\n",
        "\n",
        "\n",
        "TensorFlow can also automatically calculate the gradients that are needed to optimize the variables of the graph so as to make the model perform better. This is because the graph is a combination of simple mathematical expressions so the gradient of the entire graph can be calculated using the chain-rule for derivatives.\n",
        "\n",
        "\n",
        "TensorFlow can also take advantage of multi-core CPUs as well as GPUs - and Google has even built special chips just for TensorFlow which are called TPUs (Tensor Processing Units) and are even faster than GPUs.\n",
        "\n",
        "\n",
        "A TensorFlow graph consists of the following parts which will be detailed below:\n",
        "\n",
        "\n",
        "* Placeholder variables used for inputting data to the graph.\n",
        "* Variables that are going to be optimized so as to make the convolutional network perform better.\n",
        "* The mathematical formulas for the convolutional network.\n",
        "* A cost measure that can be used to guide the optimization of the variables.\n",
        "* An optimization method which updates the variables.\n",
        "\n",
        "In addition, the TensorFlow graph may also contain various debugging statements e.g. for logging data to be displayed using TensorBoard, which is not covered in this tutorial."
      ]
    },
    {
      "metadata": {
        "id": "Gc7lCEsOG5qk",
        "colab_type": "text"
      },
      "cell_type": "markdown",
      "source": [
        "#Helper-functions for creating new variables\n",
        "Functions for creating new TensorFlow variables in the given shape and initializing them with random values. Note that the initialization is not actually done at this point, it is merely being defined in the TensorFlow graph."
      ]
    },
    {
      "metadata": {
        "id": "WEZ2a8iPG_qq",
        "colab_type": "code",
        "colab": {}
      },
      "cell_type": "code",
      "source": [
        "def new_weights(shape):\n",
        "    return tf.Variable(tf.truncated_normal(shape, stddev=0.05))"
      ],
      "execution_count": 0,
      "outputs": []
    },
    {
      "metadata": {
        "id": "NuYqP2zqHCjj",
        "colab_type": "code",
        "colab": {}
      },
      "cell_type": "code",
      "source": [
        "def new_biases(length):\n",
        "    return tf.Variable(tf.constant(0.05, shape=[length]))"
      ],
      "execution_count": 0,
      "outputs": []
    },
    {
      "metadata": {
        "id": "ND7jPamsHGSj",
        "colab_type": "text"
      },
      "cell_type": "markdown",
      "source": [
        "#Helper-function for creating a new Convolutional Layer\n",
        "\n",
        "This function creates a new convolutional layer in the computational graph for TensorFlow. Nothing is actually calculated here, we are just adding the mathematical formulas to the TensorFlow graph.\n",
        "\n",
        "It is assumed that the input is a 4-dim tensor with the following dimensions:\n",
        "\n",
        "1. Image number.\n",
        "2. Y-axis of each image.\n",
        "3. X-axis of each image.\n",
        "4. Channels of each image.\n",
        "Note that the input channels may either be colour-channels, or it may be filter-channels if the input is produced from a previous convolutional layer.\n",
        "\n",
        "The output is another 4-dim tensor with the following dimensions:\n",
        "\n",
        "1. Image number, same as input.\n",
        "2. Y-axis of each image. If 2x2 pooling is used, then the height and width of the input images is divided by 2.\n",
        "3. X-axis of each image. Ditto.\n",
        "4. Channels produced by the convolutional filters."
      ]
    },
    {
      "metadata": {
        "id": "6reZVkqMIMjg",
        "colab_type": "code",
        "colab": {}
      },
      "cell_type": "code",
      "source": [
        "def new_conv_layer(input,              # The previous layer.\n",
        "                   num_input_channels, # Num. channels in prev. layer.\n",
        "                   filter_size,        # Width and height of each filter.\n",
        "                   num_filters,        # Number of filters.\n",
        "                   use_pooling=True):  # Use 2x2 max-pooling.\n",
        "\n",
        "    # Shape of the filter-weights for the convolution.\n",
        "    # This format is determined by the TensorFlow API.\n",
        "    shape = [filter_size, filter_size, num_input_channels, num_filters]\n",
        "\n",
        "    # Create new weights aka. filters with the given shape.\n",
        "    weights = new_weights(shape=shape)\n",
        "\n",
        "    # Create new biases, one for each filter.\n",
        "    biases = new_biases(length=num_filters)\n",
        "\n",
        "    # Create the TensorFlow operation for convolution.\n",
        "    # Note the strides are set to 1 in all dimensions.\n",
        "    # The first and last stride must always be 1,\n",
        "    # because the first is for the image-number and\n",
        "    # the last is for the input-channel.\n",
        "    # But e.g. strides=[1, 2, 2, 1] would mean that the filter\n",
        "    # is moved 2 pixels across the x- and y-axis of the image.\n",
        "    # The padding is set to 'SAME' which means the input image\n",
        "    # is padded with zeroes so the size of the output is the same.\n",
        "    layer = tf.nn.conv2d(input=input,\n",
        "                         filter=weights,\n",
        "                         strides=[1, 1, 1, 1],\n",
        "                         padding='SAME')\n",
        "\n",
        "    # Add the biases to the results of the convolution.\n",
        "    # A bias-value is added to each filter-channel.\n",
        "    layer += biases\n",
        "\n",
        "    # Use pooling to down-sample the image resolution?\n",
        "    if use_pooling:\n",
        "        # This is 2x2 max-pooling, which means that we\n",
        "        # consider 2x2 windows and select the largest value\n",
        "        # in each window. Then we move 2 pixels to the next window.\n",
        "        layer = tf.nn.max_pool(value=layer,\n",
        "                               ksize=[1, 2, 2, 1],\n",
        "                               strides=[1, 2, 2, 1],\n",
        "                               padding='SAME')\n",
        "\n",
        "    # Rectified Linear Unit (ReLU).\n",
        "    # It calculates max(x, 0) for each input pixel x.\n",
        "    # This adds some non-linearity to the formula and allows us\n",
        "    # to learn more complicated functions.\n",
        "    layer = tf.nn.relu(layer)\n",
        "\n",
        "    # Note that ReLU is normally executed before the pooling,\n",
        "    # but since relu(max_pool(x)) == max_pool(relu(x)) we can\n",
        "    # save 75% of the relu-operations by max-pooling first.\n",
        "\n",
        "    # We return both the resulting layer and the filter-weights\n",
        "    # because we will plot the weights later.\n",
        "    return layer, weights"
      ],
      "execution_count": 0,
      "outputs": []
    },
    {
      "metadata": {
        "id": "o4DfeTQLIUvk",
        "colab_type": "text"
      },
      "cell_type": "markdown",
      "source": [
        "##Helper-function for flattening a layer\n",
        "\n",
        "A convolutional layer produces an output tensor with 4 dimensions. We will add fully-connected layers after the convolution layers, so we need to reduce the 4-dim tensor to 2-dim which can be used as input to the fully-connected layer."
      ]
    },
    {
      "metadata": {
        "id": "FE5nt9rPIYxm",
        "colab_type": "code",
        "colab": {}
      },
      "cell_type": "code",
      "source": [
        "def flatten_layer(layer):\n",
        "    # Get the shape of the input layer.\n",
        "    layer_shape = layer.get_shape()\n",
        "\n",
        "    # The shape of the input layer is assumed to be:\n",
        "    # layer_shape == [num_images, img_height, img_width, num_channels]\n",
        "\n",
        "    # The number of features is: img_height * img_width * num_channels\n",
        "    # We can use a function from TensorFlow to calculate this.\n",
        "    num_features = layer_shape[1:4].num_elements()\n",
        "    \n",
        "    # Reshape the layer to [num_images, num_features].\n",
        "    # Note that we just set the size of the second dimension\n",
        "    # to num_features and the size of the first dimension to -1\n",
        "    # which means the size in that dimension is calculated\n",
        "    # so the total size of the tensor is unchanged from the reshaping.\n",
        "    layer_flat = tf.reshape(layer, [-1, num_features])\n",
        "\n",
        "    # The shape of the flattened layer is now:\n",
        "    # [num_images, img_height * img_width * num_channels]\n",
        "\n",
        "    # Return both the flattened layer and the number of features.\n",
        "    return layer_flat, num_features"
      ],
      "execution_count": 0,
      "outputs": []
    },
    {
      "metadata": {
        "id": "kjuwmImEIc8J",
        "colab_type": "text"
      },
      "cell_type": "markdown",
      "source": [
        "##Helper-function for creating a new Fully-Connected Layer\n",
        "\n",
        "This function creates a new fully-connected layer in the computational graph for TensorFlow. Nothing is actually calculated here, we are just adding the mathematical formulas to the TensorFlow graph.\n",
        "\n",
        "It is assumed that the input is a 2-dim tensor of shape [num_images, num_inputs]. The output is a 2-dim tensor of shape [num_images, num_outputs]."
      ]
    },
    {
      "metadata": {
        "id": "9z7fDLLqIhjB",
        "colab_type": "code",
        "colab": {}
      },
      "cell_type": "code",
      "source": [
        "def new_fc_layer(input,          # The previous layer.\n",
        "                 num_inputs,     # Num. inputs from prev. layer.\n",
        "                 num_outputs,    # Num. outputs.\n",
        "                 use_relu=True): # Use Rectified Linear Unit (ReLU)?\n",
        "\n",
        "    # Create new weights and biases.\n",
        "    weights = new_weights(shape=[num_inputs, num_outputs])\n",
        "    biases = new_biases(length=num_outputs)\n",
        "\n",
        "    # Calculate the layer as the matrix multiplication of\n",
        "    # the input and weights, and then add the bias-values.\n",
        "    layer = tf.matmul(input, weights) + biases\n",
        "\n",
        "    # Use ReLU?\n",
        "    if use_relu:\n",
        "        layer = tf.nn.relu(layer)\n",
        "\n",
        "    return layer"
      ],
      "execution_count": 0,
      "outputs": []
    },
    {
      "metadata": {
        "id": "ytwK3StmIlDA",
        "colab_type": "text"
      },
      "cell_type": "markdown",
      "source": [
        "##Placeholder variables\n",
        "\n",
        "Placeholder variables serve as the input to the TensorFlow computational graph that we may change each time we execute the graph. We call this feeding the placeholder variables and it is demonstrated further below.\n",
        "\n",
        "First we define the placeholder variable for the input images. This allows us to change the images that are input to the TensorFlow graph. This is a so-called tensor, which just means that it is a multi-dimensional vector or matrix. The data-type is set to float32 and the shape is set to [None, img_size_flat], where None means that the tensor may hold an arbitrary number of images with each image being a vector of length img_size_flat."
      ]
    },
    {
      "metadata": {
        "id": "WYetJgIkIqUx",
        "colab_type": "code",
        "colab": {}
      },
      "cell_type": "code",
      "source": [
        "x = tf.placeholder(tf.float32, shape=[None, img_size_flat], name='x')"
      ],
      "execution_count": 0,
      "outputs": []
    },
    {
      "metadata": {
        "id": "di8P-PnwJyU9",
        "colab_type": "text"
      },
      "cell_type": "markdown",
      "source": [
        "The convolutional layers expect x to be encoded as a 4-dim tensor so we have to reshape it so its shape is instead [num_images, img_height, img_width, num_channels]. Note that img_height == img_width == img_size and num_images can be inferred automatically by using -1 for the size of the first dimension. So the reshape operation is:"
      ]
    },
    {
      "metadata": {
        "id": "afrzpnnJJ1U2",
        "colab_type": "code",
        "colab": {}
      },
      "cell_type": "code",
      "source": [
        "x_image = tf.reshape(x, [-1, img_size, img_size, num_channels])"
      ],
      "execution_count": 0,
      "outputs": []
    },
    {
      "metadata": {
        "id": "lSz_j8Z4J4Nv",
        "colab_type": "text"
      },
      "cell_type": "markdown",
      "source": [
        "Next we have the placeholder variable for the true labels associated with the images that were input in the placeholder variable x. The shape of this placeholder variable is [None, num_classes] which means it may hold an arbitrary number of labels and each label is a vector of length num_classes which is 10 in this case."
      ]
    },
    {
      "metadata": {
        "id": "93916MWPJ6Tm",
        "colab_type": "code",
        "colab": {}
      },
      "cell_type": "code",
      "source": [
        "y_true = tf.placeholder(tf.float32, shape=[None, num_classes], name='y_true')"
      ],
      "execution_count": 0,
      "outputs": []
    },
    {
      "metadata": {
        "id": "W27AmSedJ8Ve",
        "colab_type": "text"
      },
      "cell_type": "markdown",
      "source": [
        "We could also have a placeholder variable for the class-number, but we will instead calculate it using argmax. Note that this is a TensorFlow operator so nothing is calculated at this point."
      ]
    },
    {
      "metadata": {
        "id": "C9RJAra3KBZE",
        "colab_type": "text"
      },
      "cell_type": "markdown",
      "source": [
        "We could also have a placeholder variable for the class-number, but we will instead calculate it using argmax. Note that this is a TensorFlow operator so nothing is calculated at this point."
      ]
    },
    {
      "metadata": {
        "id": "_psBWwF6KEjF",
        "colab_type": "code",
        "colab": {}
      },
      "cell_type": "code",
      "source": [
        "y_true_cls = tf.argmax(y_true, axis=1)"
      ],
      "execution_count": 0,
      "outputs": []
    },
    {
      "metadata": {
        "id": "jazUzPVBKIKF",
        "colab_type": "text"
      },
      "cell_type": "markdown",
      "source": [
        "Convolutional Layer 1\n",
        "Create the first convolutional layer. It takes x_image as input and creates num_filters1 different filters, each having width and height equal to filter_size1. Finally we wish to down-sample the image so it is half the size by using 2x2 max-pooling."
      ]
    },
    {
      "metadata": {
        "id": "C9K0Vy-3KJPk",
        "colab_type": "code",
        "colab": {}
      },
      "cell_type": "code",
      "source": [
        "layer_conv1, weights_conv1 = \\\n",
        "    new_conv_layer(input=x_image,\n",
        "                   num_input_channels=num_channels,\n",
        "                   filter_size=filter_size1,\n",
        "                   num_filters=num_filters1,\n",
        "                   use_pooling=True)"
      ],
      "execution_count": 0,
      "outputs": []
    },
    {
      "metadata": {
        "id": "DFhHrvjuKWeL",
        "colab_type": "text"
      },
      "cell_type": "markdown",
      "source": [
        "Check the shape of the tensor that will be output by the convolutional layer. It is (?, 14, 14, 16) which means that there is an arbitrary number of images (this is the ?), each image is 14 pixels wide and 14 pixels high, and there are 16 different channels, one channel for each of the filters."
      ]
    },
    {
      "metadata": {
        "id": "dazUpOA_KXSE",
        "colab_type": "code",
        "colab": {
          "base_uri": "https://localhost:8080/",
          "height": 34
        },
        "outputId": "6abb413d-581d-43cf-d5c9-74d0518b0b91"
      },
      "cell_type": "code",
      "source": [
        "layer_conv1"
      ],
      "execution_count": 31,
      "outputs": [
        {
          "output_type": "execute_result",
          "data": {
            "text/plain": [
              "<tf.Tensor 'Relu_1:0' shape=(?, 14, 14, 16) dtype=float32>"
            ]
          },
          "metadata": {
            "tags": []
          },
          "execution_count": 31
        }
      ]
    },
    {
      "metadata": {
        "id": "3kN4jJjXKbzF",
        "colab_type": "text"
      },
      "cell_type": "markdown",
      "source": [
        "##Convolutional Layer 2\n",
        "Create the second convolutional layer, which takes as input the output from the first convolutional layer. The number of input channels corresponds to the number of filters in the first convolutional layer."
      ]
    },
    {
      "metadata": {
        "id": "sC9NsUAuKkx1",
        "colab_type": "code",
        "colab": {}
      },
      "cell_type": "code",
      "source": [
        "layer_conv2, weights_conv2 = \\\n",
        "    new_conv_layer(input=layer_conv1,\n",
        "                   num_input_channels=num_filters1,\n",
        "                   filter_size=filter_size2,\n",
        "                   num_filters=num_filters2,\n",
        "                   use_pooling=True)"
      ],
      "execution_count": 0,
      "outputs": []
    },
    {
      "metadata": {
        "id": "VVuEUMYoKoIN",
        "colab_type": "text"
      },
      "cell_type": "markdown",
      "source": [
        "Check the shape of the tensor that will be output from this convolutional layer. The shape is (?, 7, 7, 36) where the ? again means that there is an arbitrary number of images, with each image having width and height of 7 pixels, and there are 36 channels, one for each filter."
      ]
    },
    {
      "metadata": {
        "id": "yfO7frFEKpw7",
        "colab_type": "code",
        "colab": {
          "base_uri": "https://localhost:8080/",
          "height": 34
        },
        "outputId": "5f0f8302-ab2c-4cf1-c818-d905a8eea82b"
      },
      "cell_type": "code",
      "source": [
        "layer_conv2"
      ],
      "execution_count": 33,
      "outputs": [
        {
          "output_type": "execute_result",
          "data": {
            "text/plain": [
              "<tf.Tensor 'Relu_2:0' shape=(?, 7, 7, 36) dtype=float32>"
            ]
          },
          "metadata": {
            "tags": []
          },
          "execution_count": 33
        }
      ]
    },
    {
      "metadata": {
        "id": "KzL91M62KtxC",
        "colab_type": "text"
      },
      "cell_type": "markdown",
      "source": [
        "##Flatten Layer\n",
        "The convolutional layers output 4-dim tensors. We now wish to use these as input in a fully-connected network, which requires for the tensors to be reshaped or flattened to 2-dim tensors."
      ]
    },
    {
      "metadata": {
        "id": "8s2EA6RCKxW-",
        "colab_type": "code",
        "colab": {}
      },
      "cell_type": "code",
      "source": [
        "layer_flat, num_features = flatten_layer(layer_conv2)"
      ],
      "execution_count": 0,
      "outputs": []
    },
    {
      "metadata": {
        "id": "CQ35mWgrK0Rc",
        "colab_type": "text"
      },
      "cell_type": "markdown",
      "source": [
        "Check that the tensors now have shape (?, 1764) which means there's an arbitrary number of images which have been flattened to vectors of length 1764 each. Note that 1764 = 7 x 7 x 36."
      ]
    },
    {
      "metadata": {
        "id": "HSfZqjfkK2CD",
        "colab_type": "code",
        "colab": {
          "base_uri": "https://localhost:8080/",
          "height": 34
        },
        "outputId": "c919a13e-f287-493a-bdfe-76940f35e103"
      },
      "cell_type": "code",
      "source": [
        "layer_flat"
      ],
      "execution_count": 35,
      "outputs": [
        {
          "output_type": "execute_result",
          "data": {
            "text/plain": [
              "<tf.Tensor 'Reshape_1:0' shape=(?, 1764) dtype=float32>"
            ]
          },
          "metadata": {
            "tags": []
          },
          "execution_count": 35
        }
      ]
    },
    {
      "metadata": {
        "id": "JwF73w-IK4pj",
        "colab_type": "code",
        "colab": {
          "base_uri": "https://localhost:8080/",
          "height": 34
        },
        "outputId": "f5f7b9e4-304c-4538-b9e1-4dcd86bdeff7"
      },
      "cell_type": "code",
      "source": [
        "num_features"
      ],
      "execution_count": 36,
      "outputs": [
        {
          "output_type": "execute_result",
          "data": {
            "text/plain": [
              "1764"
            ]
          },
          "metadata": {
            "tags": []
          },
          "execution_count": 36
        }
      ]
    },
    {
      "metadata": {
        "id": "Oabr7bmzK67C",
        "colab_type": "text"
      },
      "cell_type": "markdown",
      "source": [
        "##Fully-Connected Layer 1\n",
        "Add a fully-connected layer to the network. The input is the flattened layer from the previous convolution. The number of neurons or nodes in the fully-connected layer is fc_size. ReLU is used so we can learn non-linear relations."
      ]
    },
    {
      "metadata": {
        "id": "q7JT4VqPK-m0",
        "colab_type": "code",
        "colab": {}
      },
      "cell_type": "code",
      "source": [
        "layer_fc1 = new_fc_layer(input=layer_flat,\n",
        "                         num_inputs=num_features,\n",
        "                         num_outputs=fc_size,\n",
        "                         use_relu=True)"
      ],
      "execution_count": 0,
      "outputs": []
    },
    {
      "metadata": {
        "id": "XSFMwjhILA88",
        "colab_type": "text"
      },
      "cell_type": "markdown",
      "source": [
        "Check that the output of the fully-connected layer is a tensor with shape (?, 128) where the ? means there is an arbitrary number of images and fc_size == 128."
      ]
    },
    {
      "metadata": {
        "id": "xjGvIHC2LCjT",
        "colab_type": "code",
        "colab": {
          "base_uri": "https://localhost:8080/",
          "height": 34
        },
        "outputId": "387e7f0e-c706-4abe-c974-52d8f278b933"
      },
      "cell_type": "code",
      "source": [
        "layer_fc1"
      ],
      "execution_count": 38,
      "outputs": [
        {
          "output_type": "execute_result",
          "data": {
            "text/plain": [
              "<tf.Tensor 'Relu_3:0' shape=(?, 128) dtype=float32>"
            ]
          },
          "metadata": {
            "tags": []
          },
          "execution_count": 38
        }
      ]
    },
    {
      "metadata": {
        "id": "hb8zaCPELEkM",
        "colab_type": "text"
      },
      "cell_type": "markdown",
      "source": [
        "##Fully-Connected Layer 2\n",
        "Add another fully-connected layer that outputs vectors of length 10 for determining which of the 10 classes the input image belongs to. Note that ReLU is not used in this layer."
      ]
    },
    {
      "metadata": {
        "id": "EzmtPHrVLHmz",
        "colab_type": "code",
        "colab": {}
      },
      "cell_type": "code",
      "source": [
        "layer_fc2 = new_fc_layer(input=layer_fc1,\n",
        "                         num_inputs=fc_size,\n",
        "                         num_outputs=num_classes,\n",
        "                         use_relu=False)"
      ],
      "execution_count": 0,
      "outputs": []
    },
    {
      "metadata": {
        "id": "Ed9MANJrLKDS",
        "colab_type": "code",
        "colab": {
          "base_uri": "https://localhost:8080/",
          "height": 34
        },
        "outputId": "811a57a9-f470-4a57-c39a-ccc34c1abe63"
      },
      "cell_type": "code",
      "source": [
        "layer_fc2"
      ],
      "execution_count": 40,
      "outputs": [
        {
          "output_type": "execute_result",
          "data": {
            "text/plain": [
              "<tf.Tensor 'add_4:0' shape=(?, 10) dtype=float32>"
            ]
          },
          "metadata": {
            "tags": []
          },
          "execution_count": 40
        }
      ]
    },
    {
      "metadata": {
        "id": "sjWqUptlLMhr",
        "colab_type": "text"
      },
      "cell_type": "markdown",
      "source": [
        "##Predicted Class\n",
        "The second fully-connected layer estimates how likely it is that the input image belongs to each of the 10 classes. However, these estimates are a bit rough and difficult to interpret because the numbers may be very small or large, so we want to normalize them so that each element is limited between zero and one and the 10 elements sum to one. This is calculated using the so-called softmax function and the result is stored in y_pred."
      ]
    },
    {
      "metadata": {
        "id": "sOMoDWJJLPVd",
        "colab_type": "code",
        "colab": {}
      },
      "cell_type": "code",
      "source": [
        "y_pred = tf.nn.softmax(layer_fc2)"
      ],
      "execution_count": 0,
      "outputs": []
    },
    {
      "metadata": {
        "id": "0Kbi6WApLRaj",
        "colab_type": "text"
      },
      "cell_type": "markdown",
      "source": [
        "The class-number is the index of the largest element."
      ]
    },
    {
      "metadata": {
        "id": "hjlykheQLS8D",
        "colab_type": "code",
        "colab": {}
      },
      "cell_type": "code",
      "source": [
        "y_pred_cls = tf.argmax(y_pred, axis=1)"
      ],
      "execution_count": 0,
      "outputs": []
    },
    {
      "metadata": {
        "id": "GUai4xcuLWLS",
        "colab_type": "text"
      },
      "cell_type": "markdown",
      "source": [
        "##Cost-function to be optimized\n",
        "To make the model better at classifying the input images, we must somehow change the variables for all the network layers. To do this we first need to know how well the model currently performs by comparing the predicted output of the model y_pred to the desired output y_true.\n",
        "\n",
        "The cross-entropy is a performance measure used in classification. The cross-entropy is a continuous function that is always positive and if the predicted output of the model exactly matches the desired output then the cross-entropy equals zero. The goal of optimization is therefore to minimize the cross-entropy so it gets as close to zero as possible by changing the variables of the network layers.\n",
        "\n",
        "TensorFlow has a built-in function for calculating the cross-entropy. Note that the function calculates the softmax internally so we must use the output of layer_fc2 directly rather than y_pred which has already had the softmax applied."
      ]
    },
    {
      "metadata": {
        "id": "Hin9W9mZLXvC",
        "colab_type": "code",
        "colab": {}
      },
      "cell_type": "code",
      "source": [
        "cross_entropy = tf.nn.softmax_cross_entropy_with_logits_v2(logits=layer_fc2,\n",
        "                                                        labels=y_true)"
      ],
      "execution_count": 0,
      "outputs": []
    },
    {
      "metadata": {
        "id": "BwcbwIZlLbTq",
        "colab_type": "text"
      },
      "cell_type": "markdown",
      "source": [
        "We have now calculated the cross-entropy for each of the image classifications so we have a measure of how well the model performs on each image individually. But in order to use the cross-entropy to guide the optimization of the model's variables we need a single scalar value, so we simply take the average of the cross-entropy for all the image classifications."
      ]
    },
    {
      "metadata": {
        "id": "P4TUfeyDLdQ3",
        "colab_type": "code",
        "colab": {}
      },
      "cell_type": "code",
      "source": [
        "cost = tf.reduce_mean(cross_entropy)"
      ],
      "execution_count": 0,
      "outputs": []
    },
    {
      "metadata": {
        "id": "q1uzG39lLfxL",
        "colab_type": "text"
      },
      "cell_type": "markdown",
      "source": [
        "##Optimization Method\n",
        "Now that we have a cost measure that must be minimized, we can then create an optimizer. In this case it is the AdamOptimizer which is an advanced form of Gradient Descent.\n",
        "\n",
        "Note that optimization is not performed at this point. In fact, nothing is calculated at all, we just add the optimizer-object to the TensorFlow graph for later execution."
      ]
    },
    {
      "metadata": {
        "id": "Lf3JgueiLhSj",
        "colab_type": "code",
        "colab": {}
      },
      "cell_type": "code",
      "source": [
        "optimizer = tf.train.AdamOptimizer(learning_rate=1e-4).minimize(cost)"
      ],
      "execution_count": 0,
      "outputs": []
    },
    {
      "metadata": {
        "id": "OClzs8nULloj",
        "colab_type": "text"
      },
      "cell_type": "markdown",
      "source": [
        "##Performance Measures\n",
        "We need a few more performance measures to display the progress to the user.\n",
        "\n",
        "This is a vector of booleans whether the predicted class equals the true class of each image."
      ]
    },
    {
      "metadata": {
        "id": "E8ezd-ptLnLB",
        "colab_type": "code",
        "colab": {}
      },
      "cell_type": "code",
      "source": [
        "correct_prediction = tf.equal(y_pred_cls, y_true_cls)"
      ],
      "execution_count": 0,
      "outputs": []
    },
    {
      "metadata": {
        "id": "5s-X-wDGLqlT",
        "colab_type": "text"
      },
      "cell_type": "markdown",
      "source": [
        "This calculates the classification accuracy by first type-casting the vector of booleans to floats, so that False becomes 0 and True becomes 1, and then calculating the average of these numbers."
      ]
    },
    {
      "metadata": {
        "id": "OgxbEnLqLrRP",
        "colab_type": "code",
        "colab": {}
      },
      "cell_type": "code",
      "source": [
        "accuracy = tf.reduce_mean(tf.cast(correct_prediction, tf.float32))"
      ],
      "execution_count": 0,
      "outputs": []
    },
    {
      "metadata": {
        "id": "uh1rzgiMLtQL",
        "colab_type": "text"
      },
      "cell_type": "markdown",
      "source": [
        "#TensorFlow Run"
      ]
    },
    {
      "metadata": {
        "id": "utJtX524LwqT",
        "colab_type": "text"
      },
      "cell_type": "markdown",
      "source": [
        "##Create TensorFlow session\n",
        "Once the TensorFlow graph has been created, we have to create a TensorFlow session which is used to execute the graph."
      ]
    },
    {
      "metadata": {
        "id": "8It9-UgjL0NW",
        "colab_type": "code",
        "colab": {}
      },
      "cell_type": "code",
      "source": [
        "session = tf.Session()"
      ],
      "execution_count": 0,
      "outputs": []
    },
    {
      "metadata": {
        "id": "GqOQIVWAL4Dt",
        "colab_type": "text"
      },
      "cell_type": "markdown",
      "source": [
        "##Initialize variables\n",
        "The variables for weights and biases must be initialized before we start optimizing them."
      ]
    },
    {
      "metadata": {
        "id": "gAw8L46jL7Sf",
        "colab_type": "code",
        "colab": {}
      },
      "cell_type": "code",
      "source": [
        "session.run(tf.global_variables_initializer())"
      ],
      "execution_count": 0,
      "outputs": []
    },
    {
      "metadata": {
        "id": "BP5z4DcoL9k6",
        "colab_type": "text"
      },
      "cell_type": "markdown",
      "source": [
        "##Helper-function to perform optimization iterations\n",
        "There are 55,000 images in the training-set. It takes a long time to calculate the gradient of the model using all these images. We therefore only use a small batch of images in each iteration of the optimizer.\n",
        "\n",
        "If your computer crashes or becomes very slow because you run out of RAM, then you may try and lower this number, but you may then need to perform more optimization iterations."
      ]
    },
    {
      "metadata": {
        "id": "rHpHcyC4L_U0",
        "colab_type": "code",
        "colab": {}
      },
      "cell_type": "code",
      "source": [
        "train_batch_size = 64"
      ],
      "execution_count": 0,
      "outputs": []
    },
    {
      "metadata": {
        "id": "bYyEtk5SMC4c",
        "colab_type": "text"
      },
      "cell_type": "markdown",
      "source": [
        "Function for performing a number of optimization iterations so as to gradually improve the variables of the network layers. In each iteration, a new batch of data is selected from the training-set and then TensorFlow executes the optimizer using those training samples. The progress is printed every 100 iterations."
      ]
    },
    {
      "metadata": {
        "id": "Up2_kIVFMEfS",
        "colab_type": "code",
        "colab": {}
      },
      "cell_type": "code",
      "source": [
        "# Counter for total number of iterations performed so far.\n",
        "total_iterations = 0\n",
        "\n",
        "def optimize(num_iterations):\n",
        "    # Ensure we update the global variable rather than a local copy.\n",
        "    global total_iterations\n",
        "\n",
        "    # Start-time used for printing time-usage below.\n",
        "    start_time = time.time()\n",
        "\n",
        "    for i in range(total_iterations,\n",
        "                   total_iterations + num_iterations):\n",
        "\n",
        "        # Get a batch of training examples.\n",
        "        # x_batch now holds a batch of images and\n",
        "        # y_true_batch are the true labels for those images.\n",
        "        x_batch, y_true_batch = data.train.next_batch(train_batch_size)\n",
        "\n",
        "        # Put the batch into a dict with the proper names\n",
        "        # for placeholder variables in the TensorFlow graph.\n",
        "        feed_dict_train = {x: x_batch,\n",
        "                           y_true: y_true_batch}\n",
        "\n",
        "        # Run the optimizer using this batch of training data.\n",
        "        # TensorFlow assigns the variables in feed_dict_train\n",
        "        # to the placeholder variables and then runs the optimizer.\n",
        "        session.run(optimizer, feed_dict=feed_dict_train)\n",
        "\n",
        "        # Print status every 100 iterations.\n",
        "        if i % 100 == 0:\n",
        "            # Calculate the accuracy on the training-set.\n",
        "            acc = session.run(accuracy, feed_dict=feed_dict_train)\n",
        "\n",
        "            # Message for printing.\n",
        "            msg = \"Optimization Iteration: {0:>6}, Training Accuracy: {1:>6.1%}\"\n",
        "\n",
        "            # Print it.\n",
        "            print(msg.format(i + 1, acc))\n",
        "\n",
        "    # Update the total number of iterations performed.\n",
        "    total_iterations += num_iterations\n",
        "\n",
        "    # Ending time.\n",
        "    end_time = time.time()\n",
        "\n",
        "    # Difference between start and end-times.\n",
        "    time_dif = end_time - start_time\n",
        "\n",
        "    # Print the time-usage.\n",
        "    print(\"Time usage: \" + str(timedelta(seconds=int(round(time_dif)))))"
      ],
      "execution_count": 0,
      "outputs": []
    },
    {
      "metadata": {
        "id": "TnmbLNBWMJlq",
        "colab_type": "text"
      },
      "cell_type": "markdown",
      "source": [
        "##Helper-function to plot example errors\n",
        "Function for plotting examples of images from the test-set that have been mis-classified."
      ]
    },
    {
      "metadata": {
        "id": "TKFA5qHwMNaS",
        "colab_type": "code",
        "colab": {}
      },
      "cell_type": "code",
      "source": [
        "def plot_example_errors(cls_pred, correct):\n",
        "    # This function is called from print_test_accuracy() below.\n",
        "\n",
        "    # cls_pred is an array of the predicted class-number for\n",
        "    # all images in the test-set.\n",
        "\n",
        "    # correct is a boolean array whether the predicted class\n",
        "    # is equal to the true class for each image in the test-set.\n",
        "\n",
        "    # Negate the boolean array.\n",
        "    incorrect = (correct == False)\n",
        "    \n",
        "    # Get the images from the test-set that have been\n",
        "    # incorrectly classified.\n",
        "    images = data.test.images[incorrect]\n",
        "    \n",
        "    # Get the predicted classes for those images.\n",
        "    cls_pred = cls_pred[incorrect]\n",
        "\n",
        "    # Get the true classes for those images.\n",
        "    cls_true = data.test.cls[incorrect]\n",
        "    \n",
        "    # Plot the first 9 images.\n",
        "    plot_images(images=images[0:9],\n",
        "                cls_true=cls_true[0:9],\n",
        "                cls_pred=cls_pred[0:9])"
      ],
      "execution_count": 0,
      "outputs": []
    },
    {
      "metadata": {
        "id": "qZ8mnHtDMQ3R",
        "colab_type": "text"
      },
      "cell_type": "markdown",
      "source": [
        "##Helper-function to plot confusion matrix"
      ]
    },
    {
      "metadata": {
        "id": "2AXyQxe3MTHw",
        "colab_type": "code",
        "colab": {}
      },
      "cell_type": "code",
      "source": [
        "def plot_confusion_matrix(cls_pred):\n",
        "    # This is called from print_test_accuracy() below.\n",
        "\n",
        "    # cls_pred is an array of the predicted class-number for\n",
        "    # all images in the test-set.\n",
        "\n",
        "    # Get the true classifications for the test-set.\n",
        "    cls_true = data.test.cls\n",
        "    \n",
        "    # Get the confusion matrix using sklearn.\n",
        "    cm = confusion_matrix(y_true=cls_true,\n",
        "                          y_pred=cls_pred)\n",
        "\n",
        "    # Print the confusion matrix as text.\n",
        "    print(cm)\n",
        "\n",
        "    # Plot the confusion matrix as an image.\n",
        "    plt.matshow(cm)\n",
        "\n",
        "    # Make various adjustments to the plot.\n",
        "    plt.colorbar()\n",
        "    tick_marks = np.arange(num_classes)\n",
        "    plt.xticks(tick_marks, range(num_classes))\n",
        "    plt.yticks(tick_marks, range(num_classes))\n",
        "    plt.xlabel('Predicted')\n",
        "    plt.ylabel('True')\n",
        "\n",
        "    # Ensure the plot is shown correctly with multiple plots\n",
        "    # in a single Notebook cell.\n",
        "    plt.show()"
      ],
      "execution_count": 0,
      "outputs": []
    },
    {
      "metadata": {
        "id": "6-OiDJ43MaI-",
        "colab_type": "text"
      },
      "cell_type": "markdown",
      "source": [
        "##Helper-function for showing the performance\n",
        "Function for printing the classification accuracy on the test-set.\n",
        "\n",
        "It takes a while to compute the classification for all the images in the test-set, that's why the results are re-used by calling the above functions directly from this function, so the classifications don't have to be recalculated by each function.\n",
        "\n",
        "Note that this function can use a lot of computer memory, which is why the test-set is split into smaller batches. If you have little RAM in your computer and it crashes, then you can try and lower the batch-size."
      ]
    },
    {
      "metadata": {
        "id": "dkvu_DjOMbcp",
        "colab_type": "code",
        "colab": {}
      },
      "cell_type": "code",
      "source": [
        "# Split the test-set into smaller batches of this size.\n",
        "test_batch_size = 256\n",
        "\n",
        "def print_test_accuracy(show_example_errors=False,\n",
        "                        show_confusion_matrix=False):\n",
        "\n",
        "    # Number of images in the test-set.\n",
        "    num_test = len(data.test.images)\n",
        "\n",
        "    # Allocate an array for the predicted classes which\n",
        "    # will be calculated in batches and filled into this array.\n",
        "    cls_pred = np.zeros(shape=num_test, dtype=np.int)\n",
        "\n",
        "    # Now calculate the predicted classes for the batches.\n",
        "    # We will just iterate through all the batches.\n",
        "    # There might be a more clever and Pythonic way of doing this.\n",
        "\n",
        "    # The starting index for the next batch is denoted i.\n",
        "    i = 0\n",
        "\n",
        "    while i < num_test:\n",
        "        # The ending index for the next batch is denoted j.\n",
        "        j = min(i + test_batch_size, num_test)\n",
        "\n",
        "        # Get the images from the test-set between index i and j.\n",
        "        images = data.test.images[i:j, :]\n",
        "\n",
        "        # Get the associated labels.\n",
        "        labels = data.test.labels[i:j, :]\n",
        "\n",
        "        # Create a feed-dict with these images and labels.\n",
        "        feed_dict = {x: images,\n",
        "                     y_true: labels}\n",
        "\n",
        "        # Calculate the predicted class using TensorFlow.\n",
        "        cls_pred[i:j] = session.run(y_pred_cls, feed_dict=feed_dict)\n",
        "\n",
        "        # Set the start-index for the next batch to the\n",
        "        # end-index of the current batch.\n",
        "        i = j\n",
        "\n",
        "    # Convenience variable for the true class-numbers of the test-set.\n",
        "    cls_true = data.test.cls\n",
        "\n",
        "    # Create a boolean array whether each image is correctly classified.\n",
        "    correct = (cls_true == cls_pred)\n",
        "\n",
        "    # Calculate the number of correctly classified images.\n",
        "    # When summing a boolean array, False means 0 and True means 1.\n",
        "    correct_sum = correct.sum()\n",
        "\n",
        "    # Classification accuracy is the number of correctly classified\n",
        "    # images divided by the total number of images in the test-set.\n",
        "    acc = float(correct_sum) / num_test\n",
        "\n",
        "    # Print the accuracy.\n",
        "    msg = \"Accuracy on Test-Set: {0:.1%} ({1} / {2})\"\n",
        "    print(msg.format(acc, correct_sum, num_test))\n",
        "\n",
        "    # Plot some examples of mis-classifications, if desired.\n",
        "    if show_example_errors:\n",
        "        print(\"Example errors:\")\n",
        "        plot_example_errors(cls_pred=cls_pred, correct=correct)\n",
        "\n",
        "    # Plot the confusion matrix, if desired.\n",
        "    if show_confusion_matrix:\n",
        "        print(\"Confusion Matrix:\")\n",
        "        plot_confusion_matrix(cls_pred=cls_pred)"
      ],
      "execution_count": 0,
      "outputs": []
    },
    {
      "metadata": {
        "id": "sClmJd3AMeog",
        "colab_type": "text"
      },
      "cell_type": "markdown",
      "source": [
        "##Performance before any optimization\n",
        "The accuracy on the test-set is very low because the model variables have only been initialized and not optimized at all, so it just classifies the images randomly."
      ]
    },
    {
      "metadata": {
        "id": "OHUEe9qZMhxo",
        "colab_type": "code",
        "colab": {
          "base_uri": "https://localhost:8080/",
          "height": 34
        },
        "outputId": "d8057602-e456-4c97-b177-aff6388aeb4e"
      },
      "cell_type": "code",
      "source": [
        "print_test_accuracy()"
      ],
      "execution_count": 55,
      "outputs": [
        {
          "output_type": "stream",
          "text": [
            "Accuracy on Test-Set: 12.2% (1215 / 10000)\n"
          ],
          "name": "stdout"
        }
      ]
    },
    {
      "metadata": {
        "id": "XBahC6SjMqV9",
        "colab_type": "text"
      },
      "cell_type": "markdown",
      "source": [
        "##Performance after 1 optimization iteration\n",
        "The classification accuracy does not improve much from just 1 optimization iteration, because the learning-rate for the optimizer is set very low."
      ]
    },
    {
      "metadata": {
        "id": "lRuyYHzQMrui",
        "colab_type": "code",
        "colab": {
          "base_uri": "https://localhost:8080/",
          "height": 51
        },
        "outputId": "2bd5c221-4129-4fc9-8209-b405e98fa0ed"
      },
      "cell_type": "code",
      "source": [
        "optimize(num_iterations=1)"
      ],
      "execution_count": 56,
      "outputs": [
        {
          "output_type": "stream",
          "text": [
            "Optimization Iteration:      1, Training Accuracy:   9.4%\n",
            "Time usage: 0:00:00\n"
          ],
          "name": "stdout"
        }
      ]
    },
    {
      "metadata": {
        "id": "rHeF1kMwM1MB",
        "colab_type": "code",
        "colab": {
          "base_uri": "https://localhost:8080/",
          "height": 34
        },
        "outputId": "223ae403-9b15-47c1-f9ef-54c35a1128cb"
      },
      "cell_type": "code",
      "source": [
        "print_test_accuracy()"
      ],
      "execution_count": 57,
      "outputs": [
        {
          "output_type": "stream",
          "text": [
            "Accuracy on Test-Set: 11.4% (1137 / 10000)\n"
          ],
          "name": "stdout"
        }
      ]
    },
    {
      "metadata": {
        "id": "NlTehx4AM6ZT",
        "colab_type": "text"
      },
      "cell_type": "markdown",
      "source": [
        "##Performance after 100 optimization iterations\n",
        "After 100 optimization iterations, the model has significantly improved its classification accuracy."
      ]
    },
    {
      "metadata": {
        "id": "VLW-QlXhOh-N",
        "colab_type": "code",
        "colab": {
          "base_uri": "https://localhost:8080/",
          "height": 51
        },
        "outputId": "bb399d9c-c566-4e5f-e580-590c4d3283a4"
      },
      "cell_type": "code",
      "source": [
        "optimize(num_iterations=100) # We already performed 1 iteration above."
      ],
      "execution_count": 58,
      "outputs": [
        {
          "output_type": "stream",
          "text": [
            "Optimization Iteration:    101, Training Accuracy:  73.4%\n",
            "Time usage: 0:00:07\n"
          ],
          "name": "stdout"
        }
      ]
    },
    {
      "metadata": {
        "id": "Je4WnTDxOtsM",
        "colab_type": "code",
        "colab": {
          "base_uri": "https://localhost:8080/",
          "height": 296
        },
        "outputId": "e0670ce9-e318-44c3-dae3-ec132418e704"
      },
      "cell_type": "code",
      "source": [
        "print_test_accuracy(show_example_errors=True)"
      ],
      "execution_count": 59,
      "outputs": [
        {
          "output_type": "stream",
          "text": [
            "Accuracy on Test-Set: 72.8% (7279 / 10000)\n",
            "Example errors:\n"
          ],
          "name": "stdout"
        },
        {
          "output_type": "display_data",
          "data": {
            "image/png": "[encoded data removed]",
            "text/plain": [
              "<matplotlib.figure.Figure at 0x7f99666525c0>"
            ]
          },
          "metadata": {
            "tags": []
          }
        }
      ]
    },
    {
      "metadata": {
        "id": "B2nKV2BMO1A8",
        "colab_type": "text"
      },
      "cell_type": "markdown",
      "source": [
        "##Performance after 1000 optimization iterations\n",
        "After 1000 optimization iterations, the model has greatly increased its accuracy on the test-set to more than 90%."
      ]
    },
    {
      "metadata": {
        "id": "-q25WyrvO4b8",
        "colab_type": "code",
        "colab": {
          "base_uri": "https://localhost:8080/",
          "height": 187
        },
        "outputId": "b2296614-6c82-43f1-cbc1-56be6ce78435"
      },
      "cell_type": "code",
      "source": [
        "optimize(num_iterations=900) # We performed 100 iterations above."
      ],
      "execution_count": 60,
      "outputs": [
        {
          "output_type": "stream",
          "text": [
            "Optimization Iteration:    201, Training Accuracy:  82.8%\n",
            "Optimization Iteration:    301, Training Accuracy:  87.5%\n",
            "Optimization Iteration:    401, Training Accuracy:  84.4%\n",
            "Optimization Iteration:    501, Training Accuracy:  81.2%\n",
            "Optimization Iteration:    601, Training Accuracy:  92.2%\n",
            "Optimization Iteration:    701, Training Accuracy:  93.8%\n",
            "Optimization Iteration:    801, Training Accuracy:  92.2%\n",
            "Optimization Iteration:    901, Training Accuracy:  96.9%\n",
            "Optimization Iteration:   1001, Training Accuracy:  93.8%\n",
            "Time usage: 0:01:06\n"
          ],
          "name": "stdout"
        }
      ]
    },
    {
      "metadata": {
        "id": "yVt0wOmXPUWL",
        "colab_type": "code",
        "colab": {
          "base_uri": "https://localhost:8080/",
          "height": 296
        },
        "outputId": "3ec2b77b-df93-4ec1-82d9-65b083cf1090"
      },
      "cell_type": "code",
      "source": [
        "print_test_accuracy(show_example_errors=True)"
      ],
      "execution_count": 61,
      "outputs": [
        {
          "output_type": "stream",
          "text": [
            "Accuracy on Test-Set: 93.5% (9353 / 10000)\n",
            "Example errors:\n"
          ],
          "name": "stdout"
        },
        {
          "output_type": "display_data",
          "data": {
            "image/png": "[encoded data removed]",
            "text/plain": [
              "<matplotlib.figure.Figure at 0x7f9969240fd0>"
            ]
          },
          "metadata": {
            "tags": []
          }
        }
      ]
    },
    {
      "metadata": {
        "id": "C3bLGnwrPX-M",
        "colab_type": "text"
      },
      "cell_type": "markdown",
      "source": [
        "##Performance after 10,000 optimization iterations\n",
        "After 10,000 optimization iterations, the model has a classification accuracy on the test-set of about 99%."
      ]
    },
    {
      "metadata": {
        "id": "DLRZzpfDPavR",
        "colab_type": "code",
        "colab": {
          "base_uri": "https://localhost:8080/",
          "height": 1564
        },
        "outputId": "3d6b49fa-0386-4004-c3cb-1cdb8c269143"
      },
      "cell_type": "code",
      "source": [
        "optimize(num_iterations=9000) # We performed 1000 iterations above."
      ],
      "execution_count": 62,
      "outputs": [
        {
          "output_type": "stream",
          "text": [
            "Optimization Iteration:   1101, Training Accuracy:  96.9%\n",
            "Optimization Iteration:   1201, Training Accuracy:  93.8%\n",
            "Optimization Iteration:   1301, Training Accuracy:  95.3%\n",
            "Optimization Iteration:   1401, Training Accuracy:  92.2%\n",
            "Optimization Iteration:   1501, Training Accuracy:  92.2%\n",
            "Optimization Iteration:   1601, Training Accuracy:  92.2%\n",
            "Optimization Iteration:   1701, Training Accuracy:  98.4%\n",
            "Optimization Iteration:   1801, Training Accuracy:  93.8%\n",
            "Optimization Iteration:   1901, Training Accuracy:  98.4%\n",
            "Optimization Iteration:   2001, Training Accuracy:  95.3%\n",
            "Optimization Iteration:   2101, Training Accuracy:  98.4%\n",
            "Optimization Iteration:   2201, Training Accuracy:  95.3%\n",
            "Optimization Iteration:   2301, Training Accuracy:  96.9%\n",
            "Optimization Iteration:   2401, Training Accuracy:  95.3%\n",
            "Optimization Iteration:   2501, Training Accuracy:  92.2%\n",
            "Optimization Iteration:   2601, Training Accuracy:  96.9%\n",
            "Optimization Iteration:   2701, Training Accuracy: 100.0%\n",
            "Optimization Iteration:   2801, Training Accuracy:  98.4%\n",
            "Optimization Iteration:   2901, Training Accuracy:  98.4%\n",
            "Optimization Iteration:   3001, Training Accuracy: 100.0%\n",
            "Optimization Iteration:   3101, Training Accuracy:  95.3%\n",
            "Optimization Iteration:   3201, Training Accuracy:  98.4%\n",
            "Optimization Iteration:   3301, Training Accuracy:  92.2%\n",
            "Optimization Iteration:   3401, Training Accuracy:  96.9%\n",
            "Optimization Iteration:   3501, Training Accuracy:  93.8%\n",
            "Optimization Iteration:   3601, Training Accuracy: 100.0%\n",
            "Optimization Iteration:   3701, Training Accuracy:  98.4%\n",
            "Optimization Iteration:   3801, Training Accuracy:  96.9%\n",
            "Optimization Iteration:   3901, Training Accuracy:  98.4%\n",
            "Optimization Iteration:   4001, Training Accuracy:  98.4%\n",
            "Optimization Iteration:   4101, Training Accuracy:  98.4%\n",
            "Optimization Iteration:   4201, Training Accuracy:  98.4%\n",
            "Optimization Iteration:   4301, Training Accuracy: 100.0%\n",
            "Optimization Iteration:   4401, Training Accuracy:  98.4%\n",
            "Optimization Iteration:   4501, Training Accuracy: 100.0%\n",
            "Optimization Iteration:   4601, Training Accuracy:  93.8%\n",
            "Optimization Iteration:   4701, Training Accuracy:  98.4%\n",
            "Optimization Iteration:   4801, Training Accuracy: 100.0%\n",
            "Optimization Iteration:   4901, Training Accuracy: 100.0%\n",
            "Optimization Iteration:   5001, Training Accuracy:  96.9%\n",
            "Optimization Iteration:   5101, Training Accuracy:  96.9%\n",
            "Optimization Iteration:   5201, Training Accuracy:  98.4%\n",
            "Optimization Iteration:   5301, Training Accuracy:  98.4%\n",
            "Optimization Iteration:   5401, Training Accuracy:  98.4%\n",
            "Optimization Iteration:   5501, Training Accuracy:  98.4%\n",
            "Optimization Iteration:   5601, Training Accuracy:  98.4%\n",
            "Optimization Iteration:   5701, Training Accuracy: 100.0%\n",
            "Optimization Iteration:   5801, Training Accuracy:  96.9%\n",
            "Optimization Iteration:   5901, Training Accuracy:  95.3%\n",
            "Optimization Iteration:   6001, Training Accuracy: 100.0%\n",
            "Optimization Iteration:   6101, Training Accuracy: 100.0%\n",
            "Optimization Iteration:   6201, Training Accuracy: 100.0%\n",
            "Optimization Iteration:   6301, Training Accuracy: 100.0%\n",
            "Optimization Iteration:   6401, Training Accuracy:  95.3%\n",
            "Optimization Iteration:   6501, Training Accuracy: 100.0%\n",
            "Optimization Iteration:   6601, Training Accuracy:  98.4%\n",
            "Optimization Iteration:   6701, Training Accuracy:  98.4%\n",
            "Optimization Iteration:   6801, Training Accuracy: 100.0%\n"
          ],
          "name": "stdout"
        },
        {
          "output_type": "stream",
          "text": [
            "Optimization Iteration:   6901, Training Accuracy:  98.4%\n",
            "Optimization Iteration:   7001, Training Accuracy:  96.9%\n",
            "Optimization Iteration:   7101, Training Accuracy:  98.4%\n",
            "Optimization Iteration:   7201, Training Accuracy:  98.4%\n",
            "Optimization Iteration:   7301, Training Accuracy: 100.0%\n",
            "Optimization Iteration:   7401, Training Accuracy: 100.0%\n",
            "Optimization Iteration:   7501, Training Accuracy: 100.0%\n",
            "Optimization Iteration:   7601, Training Accuracy:  95.3%\n",
            "Optimization Iteration:   7701, Training Accuracy:  96.9%\n",
            "Optimization Iteration:   7801, Training Accuracy: 100.0%\n",
            "Optimization Iteration:   7901, Training Accuracy:  96.9%\n",
            "Optimization Iteration:   8001, Training Accuracy:  96.9%\n",
            "Optimization Iteration:   8101, Training Accuracy:  98.4%\n",
            "Optimization Iteration:   8201, Training Accuracy: 100.0%\n",
            "Optimization Iteration:   8301, Training Accuracy:  98.4%\n",
            "Optimization Iteration:   8401, Training Accuracy:  98.4%\n",
            "Optimization Iteration:   8501, Training Accuracy: 100.0%\n",
            "Optimization Iteration:   8601, Training Accuracy: 100.0%\n",
            "Optimization Iteration:   8701, Training Accuracy:  96.9%\n",
            "Optimization Iteration:   8801, Training Accuracy: 100.0%\n",
            "Optimization Iteration:   8901, Training Accuracy: 100.0%\n",
            "Optimization Iteration:   9001, Training Accuracy: 100.0%\n",
            "Optimization Iteration:   9101, Training Accuracy:  98.4%\n",
            "Optimization Iteration:   9201, Training Accuracy: 100.0%\n",
            "Optimization Iteration:   9301, Training Accuracy: 100.0%\n",
            "Optimization Iteration:   9401, Training Accuracy:  96.9%\n",
            "Optimization Iteration:   9501, Training Accuracy: 100.0%\n",
            "Optimization Iteration:   9601, Training Accuracy:  98.4%\n",
            "Optimization Iteration:   9701, Training Accuracy: 100.0%\n",
            "Optimization Iteration:   9801, Training Accuracy: 100.0%\n",
            "Optimization Iteration:   9901, Training Accuracy: 100.0%\n",
            "Optimization Iteration:  10001, Training Accuracy: 100.0%\n",
            "Time usage: 0:11:11\n"
          ],
          "name": "stdout"
        }
      ]
    },
    {
      "metadata": {
        "id": "jfZGWEaCSpi6",
        "colab_type": "code",
        "colab": {
          "base_uri": "https://localhost:8080/",
          "height": 726
        },
        "outputId": "c2dbacef-b922-40fc-bbe0-b80af519ef1d"
      },
      "cell_type": "code",
      "source": [
        "print_test_accuracy(show_example_errors=True,\n",
        "                    show_confusion_matrix=True)"
      ],
      "execution_count": 63,
      "outputs": [
        {
          "output_type": "stream",
          "text": [
            "Accuracy on Test-Set: 98.7% (9870 / 10000)\n",
            "Example errors:\n"
          ],
          "name": "stdout"
        },
        {
          "output_type": "display_data",
          "data": {
            "image/png": "[encoded data removed]",
            "text/plain": [
              "<matplotlib.figure.Figure at 0x7f9963c02898>"
            ]
          },
          "metadata": {
            "tags": []
          }
        },
        {
          "output_type": "stream",
          "text": [
            "Confusion Matrix:\n",
            "[[ 976    0    0    0    0    1    1    1    1    0]\n",
            " [   0 1129    3    0    0    0    1    2    0    0]\n",
            " [   4    2 1015    2    1    0    0    5    3    0]\n",
            " [   1    0    1  999    0    4    0    2    1    2]\n",
            " [   0    0    3    0  971    0    1    2    1    4]\n",
            " [   2    0    0    5    0  881    1    0    1    2]\n",
            " [   7    3    0    0    3    3  942    0    0    0]\n",
            " [   0    1    5    1    0    0    0 1018    1    2]\n",
            " [   6    0    6    1    1    2    2    4  948    4]\n",
            " [   2    4    0    1    5    2    0    4    0  991]]\n"
          ],
          "name": "stdout"
        },
        {
          "output_type": "display_data",
          "data": {
            "image/png": "[encoded data removed]",
            "text/plain": [
              "<matplotlib.figure.Figure at 0x7f9963c65400>"
            ]
          },
          "metadata": {
            "tags": []
          }
        }
      ]
    },
    {
      "metadata": {
        "id": "xeXxmAArSsiG",
        "colab_type": "text"
      },
      "cell_type": "markdown",
      "source": [
        "##Visualization of Weights and Layers\n",
        "In trying to understand why the convolutional neural network can recognize handwritten digits, we will now visualize the weights of the convolutional filters and the resulting output images."
      ]
    },
    {
      "metadata": {
        "id": "bJ-g97LkSv9i",
        "colab_type": "text"
      },
      "cell_type": "markdown",
      "source": [
        "##Helper-function for plotting convolutional weights"
      ]
    },
    {
      "metadata": {
        "id": "QRu4VIUQSx_y",
        "colab_type": "code",
        "colab": {}
      },
      "cell_type": "code",
      "source": [
        "def plot_conv_weights(weights, input_channel=0):\n",
        "    # Assume weights are TensorFlow ops for 4-dim variables\n",
        "    # e.g. weights_conv1 or weights_conv2.\n",
        "    \n",
        "    # Retrieve the values of the weight-variables from TensorFlow.\n",
        "    # A feed-dict is not necessary because nothing is calculated.\n",
        "    w = session.run(weights)\n",
        "\n",
        "    # Get the lowest and highest values for the weights.\n",
        "    # This is used to correct the colour intensity across\n",
        "    # the images so they can be compared with each other.\n",
        "    w_min = np.min(w)\n",
        "    w_max = np.max(w)\n",
        "\n",
        "    # Number of filters used in the conv. layer.\n",
        "    num_filters = w.shape[3]\n",
        "\n",
        "    # Number of grids to plot.\n",
        "    # Rounded-up, square-root of the number of filters.\n",
        "    num_grids = math.ceil(math.sqrt(num_filters))\n",
        "    \n",
        "    # Create figure with a grid of sub-plots.\n",
        "    fig, axes = plt.subplots(num_grids, num_grids)\n",
        "\n",
        "    # Plot all the filter-weights.\n",
        "    for i, ax in enumerate(axes.flat):\n",
        "        # Only plot the valid filter-weights.\n",
        "        if i<num_filters:\n",
        "            # Get the weights for the i'th filter of the input channel.\n",
        "            # See new_conv_layer() for details on the format\n",
        "            # of this 4-dim tensor.\n",
        "            img = w[:, :, input_channel, i]\n",
        "\n",
        "            # Plot image.\n",
        "            ax.imshow(img, vmin=w_min, vmax=w_max,\n",
        "                      interpolation='nearest', cmap='seismic')\n",
        "        \n",
        "        # Remove ticks from the plot.\n",
        "        ax.set_xticks([])\n",
        "        ax.set_yticks([])\n",
        "    \n",
        "    # Ensure the plot is shown correctly with multiple plots\n",
        "    # in a single Notebook cell.\n",
        "    plt.show()"
      ],
      "execution_count": 0,
      "outputs": []
    },
    {
      "metadata": {
        "id": "gNgo65tQS3EG",
        "colab_type": "text"
      },
      "cell_type": "markdown",
      "source": [
        "##Helper-function for plotting the output of a convolutional layer"
      ]
    },
    {
      "metadata": {
        "id": "8mtGPlI1S4AO",
        "colab_type": "code",
        "colab": {}
      },
      "cell_type": "code",
      "source": [
        "def plot_conv_layer(layer, image):\n",
        "    # Assume layer is a TensorFlow op that outputs a 4-dim tensor\n",
        "    # which is the output of a convolutional layer,\n",
        "    # e.g. layer_conv1 or layer_conv2.\n",
        "\n",
        "    # Create a feed-dict containing just one image.\n",
        "    # Note that we don't need to feed y_true because it is\n",
        "    # not used in this calculation.\n",
        "    feed_dict = {x: [image]}\n",
        "\n",
        "    # Calculate and retrieve the output values of the layer\n",
        "    # when inputting that image.\n",
        "    values = session.run(layer, feed_dict=feed_dict)\n",
        "\n",
        "    # Number of filters used in the conv. layer.\n",
        "    num_filters = values.shape[3]\n",
        "\n",
        "    # Number of grids to plot.\n",
        "    # Rounded-up, square-root of the number of filters.\n",
        "    num_grids = math.ceil(math.sqrt(num_filters))\n",
        "    \n",
        "    # Create figure with a grid of sub-plots.\n",
        "    fig, axes = plt.subplots(num_grids, num_grids)\n",
        "\n",
        "    # Plot the output images of all the filters.\n",
        "    for i, ax in enumerate(axes.flat):\n",
        "        # Only plot the images for valid filters.\n",
        "        if i<num_filters:\n",
        "            # Get the output image of using the i'th filter.\n",
        "            # See new_conv_layer() for details on the format\n",
        "            # of this 4-dim tensor.\n",
        "            img = values[0, :, :, i]\n",
        "\n",
        "            # Plot image.\n",
        "            ax.imshow(img, interpolation='nearest', cmap='binary')\n",
        "        \n",
        "        # Remove ticks from the plot.\n",
        "        ax.set_xticks([])\n",
        "        ax.set_yticks([])\n",
        "    \n",
        "    # Ensure the plot is shown correctly with multiple plots\n",
        "    # in a single Notebook cell.\n",
        "    plt.show()"
      ],
      "execution_count": 0,
      "outputs": []
    },
    {
      "metadata": {
        "id": "bfarP9zPS73F",
        "colab_type": "text"
      },
      "cell_type": "markdown",
      "source": [
        "##Input Images\n",
        "Helper-function for plotting an image."
      ]
    },
    {
      "metadata": {
        "id": "2ggh4xNFS-0l",
        "colab_type": "code",
        "colab": {}
      },
      "cell_type": "code",
      "source": [
        "def plot_image(image):\n",
        "    plt.imshow(image.reshape(img_shape),\n",
        "               interpolation='nearest',\n",
        "               cmap='binary')\n",
        "\n",
        "    plt.show()"
      ],
      "execution_count": 0,
      "outputs": []
    },
    {
      "metadata": {
        "id": "74_HNnLWTAd0",
        "colab_type": "text"
      },
      "cell_type": "markdown",
      "source": [
        "Plot an image from the test-set which will be used as an example below."
      ]
    },
    {
      "metadata": {
        "id": "mAXY6OZSTCUV",
        "colab_type": "code",
        "colab": {
          "base_uri": "https://localhost:8080/",
          "height": 265
        },
        "outputId": "1d24c317-8465-45b1-e0cf-77b977328de0"
      },
      "cell_type": "code",
      "source": [
        "image1 = data.test.images[0]\n",
        "plot_image(image1)"
      ],
      "execution_count": 67,
      "outputs": [
        {
          "output_type": "display_data",
          "data": {
            "image/png": "[encoded data removed]",
            "text/plain": [
              "<matplotlib.figure.Figure at 0x7f99639d8fd0>"
            ]
          },
          "metadata": {
            "tags": []
          }
        }
      ]
    },
    {
      "metadata": {
        "id": "QdxkvumCTEG-",
        "colab_type": "text"
      },
      "cell_type": "markdown",
      "source": [
        "Plot another example image from the test-set."
      ]
    },
    {
      "metadata": {
        "id": "wzTjeqvuTElo",
        "colab_type": "code",
        "colab": {
          "base_uri": "https://localhost:8080/",
          "height": 265
        },
        "outputId": "a65ae92b-beb1-46e3-8652-d3bd757175a1"
      },
      "cell_type": "code",
      "source": [
        "image2 = data.test.images[3]\n",
        "plot_image(image2)"
      ],
      "execution_count": 68,
      "outputs": [
        {
          "output_type": "display_data",
          "data": {
            "image/png": "[encoded data removed]",
            "text/plain": [
              "<matplotlib.figure.Figure at 0x7f9963939940>"
            ]
          },
          "metadata": {
            "tags": []
          }
        }
      ]
    },
    {
      "metadata": {
        "id": "0R0qqgS1TQXC",
        "colab_type": "text"
      },
      "cell_type": "markdown",
      "source": [
        "##Convolution Layer 1\n",
        "Now plot the filter-weights for the first convolutional layer.\n",
        "\n",
        "Note that positive weights are red and negative weights are blue."
      ]
    },
    {
      "metadata": {
        "id": "GvMfFJgdTSbt",
        "colab_type": "code",
        "colab": {
          "base_uri": "https://localhost:8080/",
          "height": 248
        },
        "outputId": "7e08dcc4-8c3b-4ef0-8020-a4de74664aa4"
      },
      "cell_type": "code",
      "source": [
        "plot_conv_weights(weights=weights_conv1)"
      ],
      "execution_count": 69,
      "outputs": [
        {
          "output_type": "display_data",
          "data": {
            "image/png": "[encoded data removed]",
            "text/plain": [
              "<matplotlib.figure.Figure at 0x7f99638dc358>"
            ]
          },
          "metadata": {
            "tags": []
          }
        }
      ]
    },
    {
      "metadata": {
        "id": "2c1SQ9faTUAO",
        "colab_type": "text"
      },
      "cell_type": "markdown",
      "source": [
        "Applying each of these convolutional filters to the first input image gives the following output images, which are then used as input to the second convolutional layer. Note that these images are down-sampled to 14 x 14 pixels which is half the resolution of the original input image."
      ]
    },
    {
      "metadata": {
        "id": "krLi0nTUTUtb",
        "colab_type": "code",
        "colab": {
          "base_uri": "https://localhost:8080/",
          "height": 248
        },
        "outputId": "79559250-1c79-4723-b299-d05a900494fe"
      },
      "cell_type": "code",
      "source": [
        "plot_conv_layer(layer=layer_conv1, image=image1)"
      ],
      "execution_count": 70,
      "outputs": [
        {
          "output_type": "display_data",
          "data": {
            "image/png": "[encoded data removed]",
            "text/plain": [
              "<matplotlib.figure.Figure at 0x7f996397f5c0>"
            ]
          },
          "metadata": {
            "tags": []
          }
        }
      ]
    },
    {
      "metadata": {
        "id": "aIy7830iTXHV",
        "colab_type": "text"
      },
      "cell_type": "markdown",
      "source": [
        "The following images are the results of applying the convolutional filters to the second image."
      ]
    },
    {
      "metadata": {
        "id": "LhV_LqafTX1a",
        "colab_type": "code",
        "colab": {
          "base_uri": "https://localhost:8080/",
          "height": 248
        },
        "outputId": "cb4b41c5-165e-4e83-c968-ffc465569b7c"
      },
      "cell_type": "code",
      "source": [
        "plot_conv_layer(layer=layer_conv1, image=image2)"
      ],
      "execution_count": 71,
      "outputs": [
        {
          "output_type": "display_data",
          "data": {
            "image/png": "[encoded data removed]",
            "text/plain": [
              "<matplotlib.figure.Figure at 0x7f9963b971d0>"
            ]
          },
          "metadata": {
            "tags": []
          }
        }
      ]
    },
    {
      "metadata": {
        "id": "EbhfqYpjTbER",
        "colab_type": "text"
      },
      "cell_type": "markdown",
      "source": [
        "It is difficult to see from these images what the purpose of the convolutional filters might be. It appears that they have merely created several variations of the input image, as if light was shining from different angles and casting shadows in the image."
      ]
    },
    {
      "metadata": {
        "id": "50CGK620Tb7p",
        "colab_type": "text"
      },
      "cell_type": "markdown",
      "source": [
        "##Convolution Layer 2\n",
        "Now plot the filter-weights for the second convolutional layer.\n",
        "\n",
        "There are 16 output channels from the first conv-layer, which means there are 16 input channels to the second conv-layer. The second conv-layer has a set of filter-weights for each of its input channels. We start by plotting the filter-weigths for the first channel.\n",
        "\n",
        "Note again that positive weights are red and negative weights are blue."
      ]
    },
    {
      "metadata": {
        "id": "_GCX1cg4Temf",
        "colab_type": "code",
        "colab": {
          "base_uri": "https://localhost:8080/",
          "height": 248
        },
        "outputId": "10780591-4ec7-4733-e367-ae2d184089a0"
      },
      "cell_type": "code",
      "source": [
        "plot_conv_weights(weights=weights_conv2, input_channel=0)"
      ],
      "execution_count": 72,
      "outputs": [
        {
          "output_type": "display_data",
          "data": {
            "image/png": "[encoded data removed]",
            "text/plain": [
              "<matplotlib.figure.Figure at 0x7f9963b2d0f0>"
            ]
          },
          "metadata": {
            "tags": []
          }
        }
      ]
    },
    {
      "metadata": {
        "id": "lt0LdZX9ThRj",
        "colab_type": "text"
      },
      "cell_type": "markdown",
      "source": [
        "There are 16 input channels to the second convolutional layer, so we can make another 15 plots of filter-weights like this. We just make one more with the filter-weights for the second channel."
      ]
    },
    {
      "metadata": {
        "id": "QP47gSNuTisH",
        "colab_type": "code",
        "colab": {
          "base_uri": "https://localhost:8080/",
          "height": 248
        },
        "outputId": "70ea4fc8-ca6a-489c-9913-74bfe4a8e337"
      },
      "cell_type": "code",
      "source": [
        "plot_conv_weights(weights=weights_conv2, input_channel=1)"
      ],
      "execution_count": 73,
      "outputs": [
        {
          "output_type": "display_data",
          "data": {
            "image/png": "[encoded data removed]",
            "text/plain": [
              "<matplotlib.figure.Figure at 0x7f996395a3c8>"
            ]
          },
          "metadata": {
            "tags": []
          }
        }
      ]
    },
    {
      "metadata": {
        "id": "VpWodcR2TkTb",
        "colab_type": "text"
      },
      "cell_type": "markdown",
      "source": [
        "It can be difficult to understand and keep track of how these filters are applied because of the high dimensionality.\n",
        "\n",
        "Applying these convolutional filters to the images that were ouput from the first conv-layer gives the following images.\n",
        "\n",
        "Note that these are down-sampled yet again to 7 x 7 pixels which is half the resolution of the images from the first conv-layer."
      ]
    },
    {
      "metadata": {
        "id": "HxpQXTBRTlEj",
        "colab_type": "code",
        "colab": {
          "base_uri": "https://localhost:8080/",
          "height": 248
        },
        "outputId": "ae401e1a-08dd-4503-9f47-3342bdeb3863"
      },
      "cell_type": "code",
      "source": [
        "plot_conv_layer(layer=layer_conv2, image=image1)"
      ],
      "execution_count": 74,
      "outputs": [
        {
          "output_type": "display_data",
          "data": {
            "image/png": "[encoded data removed]",
            "text/plain": [
              "<matplotlib.figure.Figure at 0x7f9963c83ef0>"
            ]
          },
          "metadata": {
            "tags": []
          }
        }
      ]
    },
    {
      "metadata": {
        "id": "nhC0z5-9Tog9",
        "colab_type": "text"
      },
      "cell_type": "markdown",
      "source": [
        "And these are the results of applying the filter-weights to the second image."
      ]
    },
    {
      "metadata": {
        "id": "4r99h7vNTpG3",
        "colab_type": "code",
        "colab": {
          "base_uri": "https://localhost:8080/",
          "height": 248
        },
        "outputId": "89ae356b-6321-4359-b081-978c8a992025"
      },
      "cell_type": "code",
      "source": [
        "plot_conv_layer(layer=layer_conv2, image=image2)"
      ],
      "execution_count": 75,
      "outputs": [
        {
          "output_type": "display_data",
          "data": {
            "image/png": "[encoded data removed]",
            "text/plain": [
              "<matplotlib.figure.Figure at 0x7f99639111d0>"
            ]
          },
          "metadata": {
            "tags": []
          }
        }
      ]
    },
    {
      "metadata": {
        "id": "7O6CyOLaTrmw",
        "colab_type": "text"
      },
      "cell_type": "markdown",
      "source": [
        "From these images, it looks like the second convolutional layer might detect lines and patterns in the input images, which are less sensitive to local variations in the original input images.\n",
        "\n",
        "These images are then flattened and input to the fully-connected layer, but that is not shown here."
      ]
    },
    {
      "metadata": {
        "id": "gWcafklgTxEi",
        "colab_type": "text"
      },
      "cell_type": "markdown",
      "source": [
        "##Close TensorFlow Session\n",
        "We are now done using TensorFlow, so we close the session to release its resources."
      ]
    },
    {
      "metadata": {
        "id": "E6pSmLWnTy3H",
        "colab_type": "code",
        "colab": {}
      },
      "cell_type": "code",
      "source": [
        "# This has been commented out in case you want to modify and experiment\n",
        "# with the Notebook without having to restart it.\n",
        "# session.close()"
      ],
      "execution_count": 0,
      "outputs": []
    },
    {
      "metadata": {
        "id": "TeYWCECwT14r",
        "colab_type": "text"
      },
      "cell_type": "markdown",
      "source": [
        "##Conclusion\n",
        "We have seen that a Convolutional Neural Network works much better at recognizing hand-written digits. The Convolutional Network gets a classification accuracy of about 99%, or even more if you make some adjustments, compared to only 91% for the simple linear model.\n",
        "\n",
        "However, the Convolutional Network is also much more complicated to implement, and it is not obvious from looking at the filter-weights why it works and why it sometimes fails.\n",
        "\n",
        "So we would like an easier way to program Convolutional Neural Networks and we would also like a better way of visualizing their inner workings."
      ]
    }
  ]
}