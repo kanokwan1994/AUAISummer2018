{
  "nbformat": 4,
  "nbformat_minor": 0,
  "metadata": {
    "colab": {
      "name": "Reducing Loss:Learning Rate.ipynb",
      "version": "0.3.2",
      "provenance": [],
      "include_colab_link": true
    },
    "kernelspec": {
      "name": "python3",
      "display_name": "Python 3"
    }
  },
  "cells": [
    {
      "cell_type": "markdown",
      "metadata": {
        "id": "view-in-github",
        "colab_type": "text"
      },
      "source": [
        "[View in Colaboratory](https://colab.research.google.com/github/kanokwan1994/AUAISummer2018/blob/master/Reducing_Loss_Learning_Rate.ipynb)"
      ]
    },
    {
      "metadata": {
        "id": "fxQ-fBtl0kwY",
        "colab_type": "code",
        "colab": {}
      },
      "cell_type": "code",
      "source": [
        "## Reducing Loss:Learning Rate\n"
      ],
      "execution_count": 0,
      "outputs": []
    },
    {
      "metadata": {
        "id": "-Oruj4jyC6se",
        "colab_type": "text"
      },
      "cell_type": "markdown",
      "source": [
        "## Reducing Loss:Learning Rate\n"
      ]
    },
    {
      "metadata": {
        "id": "RLLug0hbC9Z9",
        "colab_type": "text"
      },
      "cell_type": "markdown",
      "source": [
        "#loss\n"
      ]
    },
    {
      "metadata": {
        "id": "AbXg4JFyDCfM",
        "colab_type": "text"
      },
      "cell_type": "markdown",
      "source": [
        ""
      ]
    },
    {
      "metadata": {
        "id": "wKAJ-riUDJSe",
        "colab_type": "code",
        "colab": {
          "base_uri": "https://localhost:8080/",
          "height": 418
        },
        "outputId": "40e0840a-eae2-48cb-bef7-78161048a648"
      },
      "cell_type": "code",
      "source": [
        "import tensorflow as tf\n",
        "import numpy as np\n",
        "import matplotlib.pyplot as plt\n",
        "\n",
        "def add_layer(inputs, in_size, out_size, activation_funciton=None):\n",
        "    #add one more layer and return the output of this layer\n",
        "    Weights = tf.Variable(tf.random_normal([in_size,out_size]))\n",
        "    biases =tf.Variable(tf.zeros([1,out_size])+0.1)\n",
        "    Wx_plus_b = tf.matmul(inputs,Weights)+biases\n",
        "\n",
        "    if activation_funciton is None:\n",
        "        outputs = Wx_plus_b\n",
        "    else:\n",
        "        outputs = activation_funciton(Wx_plus_b)\n",
        "    return outputs\n",
        "\n",
        "#Make up some real data\n",
        "x_data = np.linspace(-1,1,300)[:,np.newaxis]\n",
        "noise = np.random.normal(0,0.05,x_data.shape)\n",
        "y_data = np.square(x_data) - 0.5 + noise\n",
        "\n",
        "#defin placeholder for inputs to network\n",
        "xs = tf.placeholder(tf.float32,[None, 1])\n",
        "ys = tf.placeholder(tf.float32,[None, 1])\n",
        "\n",
        "#add hidden layer\n",
        "l1= add_layer(xs,1,10,activation_funciton=tf.nn.relu)\n",
        "#add output layer\n",
        "prediction = add_layer(l1, 10, 1, activation_funciton=None)\n",
        "\n",
        "\n",
        "#the error between prefiction and real data\n",
        "loss =tf.reduce_mean(tf.reduce_sum (tf.square(ys- prediction), reduction_indices=[1]))\n",
        "\n",
        "train_step = tf.train.GradientDescentOptimizer(0.1).minimize(loss)\n",
        "\n",
        "init = tf.initialize_all_variables()\n",
        "\n",
        "sess = tf.Session()\n",
        "sess.run(init)\n",
        "\n",
        "#\n",
        "fig = plt.figure()\n",
        "ax = fig.add_subplot(1,1,1)\n",
        "ax.scatter(x_data, y_data)\n",
        "plt.ion()\n",
        "plt.show()\n",
        "\n",
        "for i in range(1000):\n",
        "    sess.run(train_step, feed_dict={xs:x_data,ys:y_data})\n",
        "    if i % 50 == 0:\n",
        "        #print(sess.run(loss,feed_dict={xs:x_data, ys:y_data}))\n",
        "        try:\n",
        "            ax.lines.remove(lines[0])\n",
        "        except Exception:\n",
        "            pass\n",
        "        prediction_value = sess.run(prediction,feed_dict={xs:x_data,ys:y_data})\n",
        "        lines = ax.plot(x_data, prediction_value, 'r-', lw = 5 )\n",
        "        plt.pause(0.1)\n",
        "        plt.show()"
      ],
      "execution_count": 1,
      "outputs": [
        {
          "output_type": "stream",
          "text": [
            "WARNING:tensorflow:From /usr/local/lib/python3.6/dist-packages/tensorflow/python/util/tf_should_use.py:118: initialize_all_variables (from tensorflow.python.ops.variables) is deprecated and will be removed after 2017-03-02.\n",
            "Instructions for updating:\n",
            "Use `tf.global_variables_initializer` instead.\n"
          ],
          "name": "stdout"
        },
        {
          "output_type": "display_data",
          "data": {
            "image/png": "[encoded data removed]",
            "text/plain": [
              "<matplotlib.figure.Figure at 0x7f02ed31e550>"
            ]
          },
          "metadata": {
            "tags": []
          }
        }
      ]
    },
    {
      "metadata": {
        "id": "iq_dcn43C5ff",
        "colab_type": "text"
      },
      "cell_type": "markdown",
      "source": [
        ""
      ]
    }
  ]
}