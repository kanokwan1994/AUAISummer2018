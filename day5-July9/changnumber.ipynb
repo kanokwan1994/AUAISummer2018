{
  "nbformat": 4,
  "nbformat_minor": 0,
  "metadata": {
    "colab": {
      "name": "changnumber.ipynb",
      "version": "0.3.2",
      "provenance": [],
      "include_colab_link": true
    },
    "kernelspec": {
      "name": "python3",
      "display_name": "Python 3"
    }
  },
  "cells": [
    {
      "cell_type": "markdown",
      "metadata": {
        "id": "view-in-github",
        "colab_type": "text"
      },
      "source": [
        "[View in Colaboratory](https://colab.research.google.com/github/kanokwan1994/AUAISummer2018/blob/master/day5-July9/changnumber.ipynb)"
      ]
    },
    {
      "metadata": {
        "id": "s_iD3_ebFodX",
        "colab_type": "code",
        "colab": {}
      },
      "cell_type": "code",
      "source": [
        ""
      ],
      "execution_count": 0,
      "outputs": []
    },
    {
      "metadata": {
        "id": "2T12gTbEFs2R",
        "colab_type": "code",
        "colab": {
          "base_uri": "https://localhost:8080/",
          "height": 187
        },
        "outputId": "4aea784a-b105-4f10-8455-3ca552757d68"
      },
      "cell_type": "code",
      "source": [
        "import tensorflow as tf\n",
        "import numpy as np\n",
        "\n",
        "#creat data\n",
        "x_data = np.random.rand(50).astype(np.float32)\n",
        "y_data = x_data * 0.1 +0.3\n",
        "\n",
        "#creat tensorflow structure start\n",
        "Weight = tf.Variable(tf.random_uniform([1], -1.0,1.0))\n",
        "biases =  tf.Variable(tf.zeros([1]))\n",
        "y = Weight * x_data + biases\n",
        "\n",
        "\n",
        "#loss(MSE)\n",
        "loss = tf.reduce_mean(tf.square(y-y_data))\n",
        "optimizer = tf.train.GradientDescentOptimizer(0.5)\n",
        "train = optimizer.minimize(loss)\n",
        "\n",
        "\n",
        "init = tf.initialize_all_variables()\n",
        "#creat tensorflow structure end\n",
        "\n",
        "\n",
        "sess = tf.Session() # tensorflow \n",
        "sess.run(init) #Very important\n",
        "\n",
        "for step in range (200):\n",
        "    sess.run(train)\n",
        "    if step % 20 == 0:\n",
        "        print (step, sess.run(Weight), sess.run(biases))\n",
        "\n",
        "sess.close()"
      ],
      "execution_count": 3,
      "outputs": [
        {
          "output_type": "stream",
          "text": [
            "0 [0.6180168] [0.04177345]\n",
            "20 [0.21711053] [0.24043201]\n",
            "40 [0.12658487] [0.28647768]\n",
            "60 [0.10603493] [0.29693034]\n",
            "80 [0.10136996] [0.29930317]\n",
            "100 [0.10031099] [0.29984182]\n",
            "120 [0.10007061] [0.2999641]\n",
            "140 [0.10001604] [0.29999185]\n",
            "160 [0.10000363] [0.29999816]\n",
            "180 [0.10000082] [0.2999996]\n"
          ],
          "name": "stdout"
        }
      ]
    },
    {
      "metadata": {
        "id": "VNi_dOTtFo7q",
        "colab_type": "text"
      },
      "cell_type": "markdown",
      "source": [
        ""
      ]
    }
  ]
}